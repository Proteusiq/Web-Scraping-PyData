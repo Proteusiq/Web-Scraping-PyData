{
 "cells": [
  {
   "cell_type": "markdown",
   "metadata": {},
   "source": [
    "## Run Script before using Notebook\n",
    "The run_before_notes.py. This helps notebooks picks packages as `__init__.py`"
   ]
  },
  {
   "cell_type": "code",
   "execution_count": 1,
   "metadata": {},
   "outputs": [
    {
     "name": "stdout",
     "output_type": "stream",
     "text": [
      "Notebooks Import Ready\n"
     ]
    }
   ],
   "source": [
    "%run ./run_before_notes.py"
   ]
  },
  {
   "cell_type": "code",
   "execution_count": 2,
   "metadata": {},
   "outputs": [],
   "source": [
    "'''\n",
    "Simple way of using selenium to get LinkedIn Connection Name and Title (Prototyping)\n",
    "'''\n",
    "\n",
    "from collections import defaultdict\n",
    "import json\n",
    "import logging\n",
    "import os\n",
    "import re\n",
    "import time\n",
    "\n",
    "from bs4 import BeautifulSoup, element as bs4_element\n",
    "import numpy as np\n",
    "import pandas as pd\n",
    "\n",
    "from selenium import webdriver\n",
    "from selenium.webdriver.common.by import By\n",
    "from selenium.webdriver.common.keys import Keys\n",
    "from selenium.webdriver.support.ui import WebDriverWait\n",
    "from selenium.webdriver.support import expected_conditions as EC\n",
    "\n",
    "from utils import helpers"
   ]
  },
  {
   "cell_type": "code",
   "execution_count": 3,
   "metadata": {},
   "outputs": [],
   "source": [
    "logging.basicConfig(format='%(asctime)s [%(levelname)s] %(message)s', \n",
    "                    datefmt='%d-%b-%y %H:%M:%S',\n",
    "                    level=logging.INFO)"
   ]
  },
  {
   "cell_type": "code",
   "execution_count": 4,
   "metadata": {},
   "outputs": [],
   "source": [
    "class LinkedIn:\n",
    "    '''\n",
    "    '''\n",
    "    \n",
    "    def __init__(self, snooze=2):\n",
    "\n",
    "        self.login = False\n",
    "        self.message_window_is_miminized = False\n",
    "        logging.info('Setting Up LinkedIn')\n",
    "        self.snooze = snooze\n",
    "\n",
    "    def __repr__(self):\n",
    "        \n",
    "        if self.login:\n",
    "            self._LinkedIn__my_profile()\n",
    "            show = f'[On] LinkedIn({repr(self.my_name)})'\n",
    "        else:\n",
    "            show = '[Off] LinkedIn()'\n",
    "\n",
    "        return show\n",
    "\n",
    "        \n",
    "\n",
    "    def __enter__(self):\n",
    "\n",
    "        return self\n",
    "\n",
    "    def __exit__(self, exc_type, exc_value, traceback):\n",
    "\n",
    "        self.driver.quit()\n",
    "        self.login = False\n",
    "        logging.info('Driver quit successful')\n",
    "\n",
    "\n",
    "    def sign_in(self, username, password):\n",
    "\n",
    "        try:\n",
    "            assert username and password, 'Incorrect credentials'\n",
    "        \n",
    "        except AssertionError:\n",
    "            logging.error('No credentials', exc_info=True)\n",
    "            logging.info('Pass in Username and Password')\n",
    "\n",
    "            # needed if all failed ask and place to session\n",
    "            from getpass import getpass \n",
    "            username = input('Username: ')\n",
    "            password = getpass('Password: ')\n",
    "\n",
    "        logging.info('Login in LinkedIn')\n",
    "        self.username = username\n",
    "        self.password = password\n",
    "\n",
    "        \n",
    "        \n",
    "        # Remove the Automation Info \n",
    "        chrome_options = webdriver.ChromeOptions()\n",
    "        chrome_options.add_argument(\"--disable-infobars\")\n",
    "        driver = webdriver.Chrome(options=chrome_options)\n",
    "        \n",
    "        driver.get('https://www.linkedin.com/login')\n",
    "    \n",
    "        user_name = WebDriverWait(driver, 10).until(\n",
    "            EC.presence_of_element_located((By.ID, 'username'))\n",
    "        )\n",
    "        user_name.clear()\n",
    "        user_name.send_keys(self.username)\n",
    "    \n",
    "        user_pwd = WebDriverWait(driver, 10).until(\n",
    "            EC.presence_of_element_located((By.ID, 'password'))\n",
    "        )\n",
    "        user_pwd.clear()\n",
    "        user_pwd.send_keys(self.password)\n",
    "        user_pwd.submit()\n",
    "        \n",
    "        self.driver = driver\n",
    "        self.login = True\n",
    "        logging.info('Login Successful')\n",
    "\n",
    "        return self\n",
    "    \n",
    "    def sign_off(self, soup=True):\n",
    "        \n",
    "        time.sleep(5)\n",
    "        \n",
    "        if soup:\n",
    "            self.soup = BeautifulSoup(self.driver.page_source, 'lxml')\n",
    "            logging.info('Logoff with soup')\n",
    "            \n",
    "        self.driver.close()\n",
    "        logging.info('Logoff Successful')\n",
    "        self.login = False\n",
    "        return self\n",
    "\n",
    "    def __my_profile(self):\n",
    "        '''Private function\n",
    "        Note meant to be used outside class\n",
    "        Get My Profiles Name, Info and Id\n",
    "        '''\n",
    "\n",
    "        pattern = re.compile('^bpr-guid-*')\n",
    "        codes = helpers.driver_tags(self.driver, \n",
    "                                    search='find_all',\n",
    "                                    query=('code',{'id':pattern}))\n",
    "        data = [code.get_text(strip=True) for code in codes \n",
    "                if 'publicContactInfo' in code.get_text(strip=True)]\n",
    "\n",
    "        mig = json.loads(data[-1])\n",
    "        self.my_name = f\"{mig['included'][0]['firstName']} {mig['included'][0]['lastName']}\"\n",
    "        self.my_info = mig['included'][0]['occupation']\n",
    "        self.my_profile_id = mig['included'][0]['publicIdentifier']\n",
    "\n",
    "        return self\n",
    "\n",
    "    \n",
    "    @property\n",
    "    def connections(self):\n",
    "        \n",
    "        WebDriverWait(self.driver, 10).until(\n",
    "            EC.presence_of_element_located((By.ID, 'mynetwork-tab-icon'))\n",
    "        ).click()\n",
    "\n",
    "        WebDriverWait(self.driver, 30).until(\n",
    "            EC.presence_of_element_located(\n",
    "                (By.CLASS_NAME, 'mn-community-summary__entity-info'))\n",
    "        ).click()\n",
    "        \n",
    "        return self\n",
    "    \n",
    "    \n",
    "    @property\n",
    "    def scroll(self):\n",
    "\n",
    "        KEEP_SCROLLING = True\n",
    "\n",
    "        # Get current scrol height\n",
    "        current_height = self.driver.execute_script(\"return document.body.scrollHeight\")\n",
    "        \n",
    "        logging.info('Scrolling in progress ...')\n",
    "        print('\\n[.', end='')\n",
    "        while KEEP_SCROLLING:\n",
    "\n",
    "            # Scroll down to bottom\n",
    "            self.driver.execute_script('window.scrollTo(0, document.body.scrollHeight);')\n",
    "\n",
    "            # Wait to load page\n",
    "            time.sleep(self.snooze)\n",
    "\n",
    "            # Get the new scrolled height\n",
    "            scrolled_height = self.driver.execute_script(\"return document.body.scrollHeight\")\n",
    "            # Check if we should keep scrolling\n",
    "            \n",
    "            \n",
    "            if scrolled_height == current_height:\n",
    "                KEEP_SCROLLING = False\n",
    "            current_height = scrolled_height\n",
    "            print('.', end='', flush=True)\n",
    "        print(']\\n')\n",
    "        \n",
    "        logging.info('Scrolling Completed!')   \n",
    "        return self\n",
    "\n",
    "    @property    \n",
    "    def  minimize_message_window(self):\n",
    "    \n",
    "        class_ = 'msg-overlay-bubble-header__button'\n",
    "        msg_window = WebDriverWait(self.driver, 10).until(\n",
    "            EC.visibility_of_element_located(\n",
    "                (By.CLASS_NAME, class_)))\n",
    "        \n",
    "        msg = msg_window.text\n",
    "        \n",
    "        if 'minimize' in msg:\n",
    "            msg_window.click()\n",
    "            logging.info('Message Window Minimized')\n",
    "        else:\n",
    "            logging.info('Message Window already minimized')\n",
    "\n",
    "        self.message_window_is_miminized = True  \n",
    "        return self     "
   ]
  },
  {
   "cell_type": "code",
   "execution_count": 4,
   "metadata": {},
   "outputs": [],
   "source": [
    "class LinkedInSoup:\n",
    "    ''' LinkedInSoup\n",
    "     # TODO\n",
    "    '''\n",
    "\n",
    "    def __init__(self, driver, parser='lxml'):\n",
    "\n",
    "        '''\n",
    "        Return show image of element from selenium driver\n",
    "\n",
    "        :param selenium driver: Selenium driver instance\n",
    "        :param selenium element: Selenium element to focus\n",
    "\n",
    "        :return: TODO\n",
    "        \n",
    "        :raises ValueError: Coming soon\n",
    "        :raises TypeError: Coming soon\n",
    "        '''\n",
    "        \n",
    "        soup = BeautifulSoup(\n",
    "                driver.page_source, parser)\n",
    "        self.soup = soup\n",
    "        self.driver = driver\n",
    "        self.store = defaultdict(list)\n",
    "        \n",
    "    def __repr__(self):\n",
    "        \n",
    "        show = ''\n",
    "        if self.store:\n",
    "            index = np.random.randint(0, len(self.store)+1, 5)\n",
    "            names = [name for i,name in enumerate(self.store['profile_name']) if i in index]\n",
    "            for name in names:\n",
    "                show+=f\".Node('{name}')\"\n",
    "                \n",
    "        else:\n",
    "            show = '.Node()'\n",
    "        \n",
    "        return show[1:]\n",
    "        \n",
    "    def prep_connection(self, image=False):\n",
    "\n",
    "        section = self.soup.find('section',class_='mn-connections')\n",
    "        connections = section.find_all('li', class_='list-style-none')\n",
    "        logging.info(f'{len(connections)} connections found')\n",
    "        \n",
    "        for profile in connections:\n",
    "            \n",
    "            p = profile.find('a',{'data-control-name':'connection_profile'})\n",
    "            self.store['profile_url'].append(p['href'])\n",
    "            self.store['profile_name'].append(p.img['alt'])\n",
    "            if image:                             \n",
    "                self.store['profile_img_url'].append(p.img['src'])\n",
    "            \n",
    "            title = profile.find('span',class_='mn-connection-card__occupation').get_text(strip=True)\n",
    "            self.store['title'].append(title)\n",
    "            \n",
    "        return self\n",
    "\n",
    "    def get_profile_info(self, profile_url):\n",
    "        \n",
    "        self.driver.get(profile_url)\n",
    "        \n",
    "        codes = BeautifulSoup(\n",
    "            self.driver.page_source,'lxml').find_all('code')\n",
    "        \n",
    "        try:\n",
    "            data = [json.loads(code.get_text(strip=True)) for code in codes \n",
    "                if \"*profile\" in code.get_text(strip=True)][0]\n",
    "\n",
    "            logging.info(f'{profile_url}: Profile info found')\n",
    "\n",
    "            return data\n",
    "        \n",
    "        except IndexError:\n",
    "            logging.warning(f'{profile_url}: Profile info not found')\n",
    "            \n",
    "        "
   ]
  },
  {
   "cell_type": "code",
   "execution_count": 5,
   "metadata": {},
   "outputs": [],
   "source": [
    "user = os.environ.get('LINKEDIN_USER')\n",
    "pwd = os.environ.get('LINKEDIN_PWD')"
   ]
  },
  {
   "cell_type": "code",
   "execution_count": 6,
   "metadata": {},
   "outputs": [
    {
     "name": "stderr",
     "output_type": "stream",
     "text": [
      "26-Jul-19 13:44:55 [INFO] Setting Up LinkedIn\n"
     ]
    }
   ],
   "source": [
    "linkedin = LinkedIn(.5)"
   ]
  },
  {
   "cell_type": "code",
   "execution_count": 7,
   "metadata": {},
   "outputs": [
    {
     "name": "stderr",
     "output_type": "stream",
     "text": [
      "26-Jul-19 13:45:00 [INFO] Login in LinkedIn\n",
      "26-Jul-19 13:45:07 [INFO] Login Successful\n",
      "26-Jul-19 13:45:09 [INFO] Scrolling in progress ...\n"
     ]
    },
    {
     "name": "stdout",
     "output_type": "stream",
     "text": [
      "\n",
      "[..................................."
     ]
    },
    {
     "name": "stderr",
     "output_type": "stream",
     "text": [
      "26-Jul-19 13:47:53 [INFO] Scrolling Completed!\n"
     ]
    },
    {
     "name": "stdout",
     "output_type": "stream",
     "text": [
      "]\n",
      "\n"
     ]
    },
    {
     "name": "stderr",
     "output_type": "stream",
     "text": [
      "26-Jul-19 13:47:54 [INFO] 1002 connections found\n",
      "26-Jul-19 13:48:00 [INFO] Logoff with soup\n",
      "26-Jul-19 13:48:00 [INFO] Logoff Successful\n"
     ]
    }
   ],
   "source": [
    "try:\n",
    "    \n",
    "    network = linkedin.sign_in(username=user,password=pwd)\n",
    "    network.connections.scroll\n",
    "    \n",
    "finally:\n",
    "    connections = LinkedInSoup(linkedin.driver)\n",
    "    connections.prep_connection()\n",
    "    linkedin.sign_off()"
   ]
  },
  {
   "cell_type": "code",
   "execution_count": 8,
   "metadata": {},
   "outputs": [
    {
     "data": {
      "text/plain": [
       "Node('Dmytro Iakubovskyi').Node('Donatas Sedys').Node('Claudia Rimmer')"
      ]
     },
     "execution_count": 8,
     "metadata": {},
     "output_type": "execute_result"
    }
   ],
   "source": [
    "connections"
   ]
  },
  {
   "cell_type": "code",
   "execution_count": 9,
   "metadata": {},
   "outputs": [
    {
     "data": {
      "text/plain": [
       "1002"
      ]
     },
     "execution_count": 9,
     "metadata": {},
     "output_type": "execute_result"
    }
   ],
   "source": [
    "len(connections.store['profile_url'])"
   ]
  },
  {
   "cell_type": "code",
   "execution_count": 10,
   "metadata": {},
   "outputs": [
    {
     "data": {
      "text/html": [
       "<div>\n",
       "<style scoped>\n",
       "    .dataframe tbody tr th:only-of-type {\n",
       "        vertical-align: middle;\n",
       "    }\n",
       "\n",
       "    .dataframe tbody tr th {\n",
       "        vertical-align: top;\n",
       "    }\n",
       "\n",
       "    .dataframe thead th {\n",
       "        text-align: right;\n",
       "    }\n",
       "</style>\n",
       "<table border=\"1\" class=\"dataframe\">\n",
       "  <thead>\n",
       "    <tr style=\"text-align: right;\">\n",
       "      <th></th>\n",
       "      <th>profile_url</th>\n",
       "      <th>profile_name</th>\n",
       "      <th>title</th>\n",
       "    </tr>\n",
       "  </thead>\n",
       "  <tbody>\n",
       "    <tr>\n",
       "      <th>0</th>\n",
       "      <td>/in/dmytro-iakubovskyi-18b30b183/</td>\n",
       "      <td>Dmytro Iakubovskyi</td>\n",
       "      <td>Experienced researcher with strong skills in D...</td>\n",
       "    </tr>\n",
       "    <tr>\n",
       "      <th>1</th>\n",
       "      <td>/in/donatas-sedys/</td>\n",
       "      <td>Donatas Sedys</td>\n",
       "      <td>Business Development Director at UAB \"DATA MINER\"</td>\n",
       "    </tr>\n",
       "    <tr>\n",
       "      <th>2</th>\n",
       "      <td>/in/baraka-mwamundela-9b90b0162/</td>\n",
       "      <td>Baraka Mwamundela</td>\n",
       "      <td>Volunteer as Laboratory Scientist at National ...</td>\n",
       "    </tr>\n",
       "    <tr>\n",
       "      <th>3</th>\n",
       "      <td>/in/claudia-rimmer-455744134/</td>\n",
       "      <td>Claudia Rimmer</td>\n",
       "      <td>European Recruitment Consultant at Marlin Green</td>\n",
       "    </tr>\n",
       "    <tr>\n",
       "      <th>4</th>\n",
       "      <td>/in/daylian-opare-35951216a/</td>\n",
       "      <td>Daylian Opare</td>\n",
       "      <td>Solutions Consultant at Orcan Intelligence Ltd</td>\n",
       "    </tr>\n",
       "  </tbody>\n",
       "</table>\n",
       "</div>"
      ],
      "text/plain": [
       "                         profile_url        profile_name  \\\n",
       "0  /in/dmytro-iakubovskyi-18b30b183/  Dmytro Iakubovskyi   \n",
       "1                 /in/donatas-sedys/       Donatas Sedys   \n",
       "2   /in/baraka-mwamundela-9b90b0162/   Baraka Mwamundela   \n",
       "3      /in/claudia-rimmer-455744134/      Claudia Rimmer   \n",
       "4       /in/daylian-opare-35951216a/       Daylian Opare   \n",
       "\n",
       "                                               title  \n",
       "0  Experienced researcher with strong skills in D...  \n",
       "1  Business Development Director at UAB \"DATA MINER\"  \n",
       "2  Volunteer as Laboratory Scientist at National ...  \n",
       "3    European Recruitment Consultant at Marlin Green  \n",
       "4     Solutions Consultant at Orcan Intelligence Ltd  "
      ]
     },
     "execution_count": 10,
     "metadata": {},
     "output_type": "execute_result"
    }
   ],
   "source": [
    "df = pd.DataFrame(connections.store)\n",
    "df.head()"
   ]
  },
  {
   "cell_type": "code",
   "execution_count": 11,
   "metadata": {},
   "outputs": [],
   "source": [
    "df.to_pickle('../linkedin.pkl')"
   ]
  },
  {
   "cell_type": "code",
   "execution_count": 12,
   "metadata": {},
   "outputs": [],
   "source": [
    "soup = linkedin.soup"
   ]
  },
  {
   "cell_type": "code",
   "execution_count": 13,
   "metadata": {},
   "outputs": [
    {
     "name": "stdout",
     "output_type": "stream",
     "text": [
      "1002\n"
     ]
    }
   ],
   "source": [
    "section = soup.find('section',class_='mn-connections')\n",
    "connections = section.find_all('li', class_='list-style-none')\n",
    "print(len(connections))"
   ]
  },
  {
   "cell_type": "code",
   "execution_count": 14,
   "metadata": {},
   "outputs": [],
   "source": [
    "s = connections[0].find('a',{'data-control-name':'connection_profile'})"
   ]
  },
  {
   "cell_type": "code",
   "execution_count": 15,
   "metadata": {},
   "outputs": [
    {
     "data": {
      "text/plain": [
       "<a class=\"mn-connection-card__picture pt2 pr2 pb1 pl5 ember-view\" data-control-name=\"connection_profile\" href=\"/in/dmytro-iakubovskyi-18b30b183/\" id=\"ember1047\"> <div class=\"presence-entity presence-entity--size-5 ember-view\" id=\"ember1048\"><img alt=\"Dmytro Iakubovskyi\" class=\"lazy-image presence-entity__image EntityPhoto-circle-5 loaded\" src=\"https://media.licdn.com/dms/image/C5603AQGiSMlJPObZsQ/profile-displayphoto-shrink_800_800/0?e=1569456000&amp;v=beta&amp;t=08UAHI-cnQiWqY40T1iyL9S80hpqlItTvYooxeAJi9s\"/>\n",
       "<div class=\"presence-entity__indicator presence-entity__indicator--size-5 presence-indicator hidden presence-indicator--size-5 ember-view\" id=\"ember1049\">\n",
       "<span class=\"visually-hidden\">\n",
       "    Status is offline\n",
       "  </span>\n",
       "</div>\n",
       "</div>\n",
       "</a>"
      ]
     },
     "execution_count": 15,
     "metadata": {},
     "output_type": "execute_result"
    }
   ],
   "source": [
    "s"
   ]
  },
  {
   "cell_type": "code",
   "execution_count": 16,
   "metadata": {},
   "outputs": [
    {
     "data": {
      "text/plain": [
       "'/in/dmytro-iakubovskyi-18b30b183/'"
      ]
     },
     "execution_count": 16,
     "metadata": {},
     "output_type": "execute_result"
    }
   ],
   "source": [
    "s['href']"
   ]
  },
  {
   "cell_type": "code",
   "execution_count": 17,
   "metadata": {},
   "outputs": [
    {
     "data": {
      "text/plain": [
       "'Dmytro Iakubovskyi'"
      ]
     },
     "execution_count": 17,
     "metadata": {},
     "output_type": "execute_result"
    }
   ],
   "source": [
    "s.img['alt']"
   ]
  },
  {
   "cell_type": "code",
   "execution_count": 18,
   "metadata": {},
   "outputs": [
    {
     "data": {
      "text/plain": [
       "'https://media.licdn.com/dms/image/C5603AQGiSMlJPObZsQ/profile-displayphoto-shrink_800_800/0?e=1569456000&v=beta&t=08UAHI-cnQiWqY40T1iyL9S80hpqlItTvYooxeAJi9s'"
      ]
     },
     "execution_count": 18,
     "metadata": {},
     "output_type": "execute_result"
    }
   ],
   "source": [
    "s.img['src']"
   ]
  },
  {
   "cell_type": "code",
   "execution_count": 19,
   "metadata": {},
   "outputs": [
    {
     "data": {
      "text/plain": [
       "'Experienced researcher with strong skills in Data Science and Data Engineering'"
      ]
     },
     "execution_count": 19,
     "metadata": {},
     "output_type": "execute_result"
    }
   ],
   "source": [
    "connections[0].find('span',class_='mn-connection-card__occupation').get_text(strip=True)"
   ]
  },
  {
   "cell_type": "code",
   "execution_count": 20,
   "metadata": {},
   "outputs": [],
   "source": [
    "import requests\n",
    "from IPython.display import Image"
   ]
  },
  {
   "cell_type": "code",
   "execution_count": 21,
   "metadata": {},
   "outputs": [
    {
     "data": {
      "image/jpeg": "[encoded data removed]",
      "text/plain": [
       "<IPython.core.display.Image object>"
      ]
     },
     "execution_count": 21,
     "metadata": {},
     "output_type": "execute_result"
    }
   ],
   "source": [
    "Image(requests.get(s.img['src']).content)"
   ]
  },
  {
   "cell_type": "code",
   "execution_count": 22,
   "metadata": {},
   "outputs": [],
   "source": [
    "#requests.get(s.img['src']).content"
   ]
  }
 ],
 "metadata": {
  "kernelspec": {
   "display_name": "Python 3",
   "language": "python",
   "name": "python3"
  },
  "language_info": {
   "codemirror_mode": {
    "name": "ipython",
    "version": 3
   },
   "file_extension": ".py",
   "mimetype": "text/x-python",
   "name": "python",
   "nbconvert_exporter": "python",
   "pygments_lexer": "ipython3",
   "version": "3.7.3"
  }
 },
 "nbformat": 4,
 "nbformat_minor": 2
}

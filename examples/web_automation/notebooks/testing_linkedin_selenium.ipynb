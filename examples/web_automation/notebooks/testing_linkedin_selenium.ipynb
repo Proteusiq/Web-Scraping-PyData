{
 "cells": [
  {
   "cell_type": "code",
   "execution_count": 1,
   "metadata": {},
   "outputs": [
    {
     "name": "stdout",
     "output_type": "stream",
     "text": [
      "Notebooks Import Ready\n"
     ]
    }
   ],
   "source": [
    "%run ./run_before_notes.py"
   ]
  },
  {
   "cell_type": "code",
   "execution_count": 2,
   "metadata": {},
   "outputs": [],
   "source": [
    "import json\n",
    "import os\n",
    "import re"
   ]
  },
  {
   "cell_type": "code",
   "execution_count": 20,
   "metadata": {},
   "outputs": [],
   "source": [
    "from PIL import Image\n",
    "import numpy as np\n",
    "import pandas as pd"
   ]
  },
  {
   "cell_type": "code",
   "execution_count": 4,
   "metadata": {},
   "outputs": [],
   "source": [
    "from linkedin_selenium import LinkedIn"
   ]
  },
  {
   "cell_type": "code",
   "execution_count": 5,
   "metadata": {},
   "outputs": [],
   "source": [
    "user = os.environ.get('LINKEDIN_USER')\n",
    "pwd = os.environ.get('LINKEDIN_PWD')"
   ]
  },
  {
   "cell_type": "code",
   "execution_count": 6,
   "metadata": {},
   "outputs": [
    {
     "name": "stderr",
     "output_type": "stream",
     "text": [
      "25-Jul-19 13:42:07 [INFO] Setting Up LinkedIn\n",
      "25-Jul-19 13:42:07 [INFO] Login in LinkedIn\n",
      "25-Jul-19 13:42:15 [INFO] Login Successful\n",
      "25-Jul-19 13:42:15 [INFO] Driver quit successful\n"
     ]
    }
   ],
   "source": [
    "with LinkedIn(snooze=1) as linkedin:\n",
    "    linkedin.sign_in(username=user,password=pwd)\n",
    "    pattern = re.compile('^bpr-guid-*')\n",
    "    codes = driver_tags(linkedin.driver, search='find_all',query=('code',{'id':pattern}))\n",
    "    "
   ]
  },
  {
   "cell_type": "code",
   "execution_count": 7,
   "metadata": {},
   "outputs": [],
   "source": [
    "data = [code.get_text(strip=True) for code in codes if 'publicContactInfo' in code.get_text(strip=True)] # metatadata"
   ]
  },
  {
   "cell_type": "code",
   "execution_count": 8,
   "metadata": {},
   "outputs": [],
   "source": [
    "mig = json.loads(data[-1])"
   ]
  },
  {
   "cell_type": "code",
   "execution_count": 9,
   "metadata": {},
   "outputs": [
    {
     "data": {
      "text/plain": [
       "'Prayson Wilfred Daniel'"
      ]
     },
     "execution_count": 9,
     "metadata": {},
     "output_type": "execute_result"
    }
   ],
   "source": [
    "f\"{mig['included'][0]['firstName']} {mig['included'][0]['lastName']}\""
   ]
  },
  {
   "cell_type": "code",
   "execution_count": 10,
   "metadata": {},
   "outputs": [
    {
     "data": {
      "text/plain": [
       "'AI | Machine Learning | Python'"
      ]
     },
     "execution_count": 10,
     "metadata": {},
     "output_type": "execute_result"
    }
   ],
   "source": [
    "mig['included'][0]['occupation']"
   ]
  },
  {
   "cell_type": "code",
   "execution_count": 11,
   "metadata": {},
   "outputs": [
    {
     "data": {
      "text/plain": [
       "'prayson-wilfred-daniel-73082640'"
      ]
     },
     "execution_count": 11,
     "metadata": {},
     "output_type": "execute_result"
    }
   ],
   "source": [
    "mig['included'][0]['publicIdentifier']"
   ]
  },
  {
   "cell_type": "code",
   "execution_count": 11,
   "metadata": {},
   "outputs": [
    {
     "data": {
      "text/plain": [
       "{'data': {'publicContactInfo': {'twitterHandles': [{'name': 'Proteusiq',\n",
       "     'credentialId': 'urn:li:member:145370772;323770609',\n",
       "     '$type': 'com.linkedin.voyager.identity.shared.TwitterHandle'}],\n",
       "   '$type': 'com.linkedin.voyager.identity.shared.PublicContactInfo'},\n",
       "  '*miniProfile': 'urn:li:fs_miniProfile:ACoAAAiqLpQBGCf8Bvyfe-IxXSFwqnA_TSRMfMs',\n",
       "  'plainId': 145370772,\n",
       "  'premiumSubscriber': False,\n",
       "  '$type': 'com.linkedin.voyager.common.Me'},\n",
       " 'included': [{'firstName': 'Prayson Wilfred',\n",
       "   'lastName': 'Daniel',\n",
       "   'occupation': 'AI | Machine Learning | Python',\n",
       "   'objectUrn': 'urn:li:member:145370772',\n",
       "   'entityUrn': 'urn:li:fs_miniProfile:ACoAAAiqLpQBGCf8Bvyfe-IxXSFwqnA_TSRMfMs',\n",
       "   'backgroundImage': {'artifacts': [{'width': 800,\n",
       "      'fileIdentifyingUrlPathSegment': '200_800/0?e=1569456000&v=beta&t=Q-8Eqw_WY83LMmsqkwZoUQ_HM1WWuSsdse3I7kmbdqY',\n",
       "      'expiresAt': 1569456000000,\n",
       "      'height': 200,\n",
       "      '$type': 'com.linkedin.common.VectorArtifact'},\n",
       "     {'width': 1400,\n",
       "      'fileIdentifyingUrlPathSegment': '350_1400/0?e=1569456000&v=beta&t=zmo31ZN0Dt3_gWc3c3pXa8o3mwWEA1DK5RXEiFGLeEw',\n",
       "      'expiresAt': 1569456000000,\n",
       "      'height': 350,\n",
       "      '$type': 'com.linkedin.common.VectorArtifact'}],\n",
       "    'rootUrl': 'https://media.licdn.com/dms/image/C5616AQFVXrpnDJVljQ/profile-displaybackgroundimage-shrink_',\n",
       "    '$type': 'com.linkedin.common.VectorImage'},\n",
       "   'publicIdentifier': 'prayson-wilfred-daniel-73082640',\n",
       "   'picture': {'artifacts': [{'width': 100,\n",
       "      'fileIdentifyingUrlPathSegment': '100_100/0?e=1569456000&v=beta&t=ZRPZjh7DDZnNLjSXaHkwXFnF08fNAVAJI0YdBF5PcuM',\n",
       "      'expiresAt': 1569456000000,\n",
       "      'height': 100,\n",
       "      '$type': 'com.linkedin.common.VectorArtifact'},\n",
       "     {'width': 200,\n",
       "      'fileIdentifyingUrlPathSegment': '200_200/0?e=1569456000&v=beta&t=K8mD3-5uHN3foF2S0oEUCbWcFYKXyPcJEtYSANE_BEg',\n",
       "      'expiresAt': 1569456000000,\n",
       "      'height': 200,\n",
       "      '$type': 'com.linkedin.common.VectorArtifact'},\n",
       "     {'width': 400,\n",
       "      'fileIdentifyingUrlPathSegment': '400_400/0?e=1569456000&v=beta&t=O50chCFWmembo2WkoKxnXhWy6pVvsczxYqswjEM96RE',\n",
       "      'expiresAt': 1569456000000,\n",
       "      'height': 400,\n",
       "      '$type': 'com.linkedin.common.VectorArtifact'},\n",
       "     {'width': 800,\n",
       "      'fileIdentifyingUrlPathSegment': '800_800/0?e=1569456000&v=beta&t=7ud7COUU8y1XwdjTJcdkNk-c8xOsv-4XoY0hdSbrido',\n",
       "      'expiresAt': 1569456000000,\n",
       "      'height': 800,\n",
       "      '$type': 'com.linkedin.common.VectorArtifact'}],\n",
       "    'rootUrl': 'https://media.licdn.com/dms/image/C5603AQHX4o3NLTp0Ug/profile-displayphoto-shrink_',\n",
       "    '$type': 'com.linkedin.common.VectorImage'},\n",
       "   'trackingId': 'VjMcfkS3S3ysXfftz6cXMQ==',\n",
       "   '$type': 'com.linkedin.voyager.identity.shared.MiniProfile'}]}"
      ]
     },
     "execution_count": 11,
     "metadata": {},
     "output_type": "execute_result"
    }
   ],
   "source": [
    "mig"
   ]
  },
  {
   "cell_type": "code",
   "execution_count": 11,
   "metadata": {},
   "outputs": [],
   "source": [
    "# Taking Picture"
   ]
  },
  {
   "cell_type": "code",
   "execution_count": 27,
   "metadata": {},
   "outputs": [
    {
     "name": "stderr",
     "output_type": "stream",
     "text": [
      "25-Jul-19 13:45:43 [INFO] Setting Up LinkedIn\n",
      "25-Jul-19 13:45:43 [INFO] Login in LinkedIn\n",
      "25-Jul-19 13:45:50 [INFO] Login Successful\n"
     ]
    }
   ],
   "source": [
    "linkedin = LinkedIn(snooze=1).sign_in(username=user,password=pwd)"
   ]
  },
  {
   "cell_type": "code",
   "execution_count": 30,
   "metadata": {},
   "outputs": [
    {
     "data": {
      "text/plain": [
       "[On] LinkedIn('Prayson Wilfred Daniel')"
      ]
     },
     "execution_count": 30,
     "metadata": {},
     "output_type": "execute_result"
    }
   ],
   "source": [
    "linkedin"
   ]
  },
  {
   "cell_type": "code",
   "execution_count": 31,
   "metadata": {},
   "outputs": [
    {
     "data": {
      "text/plain": [
       "'AI | Machine Learning | Python'"
      ]
     },
     "execution_count": 31,
     "metadata": {},
     "output_type": "execute_result"
    }
   ],
   "source": [
    "linkedin.my_info"
   ]
  },
  {
   "cell_type": "code",
   "execution_count": 32,
   "metadata": {},
   "outputs": [
    {
     "data": {
      "text/plain": [
       "'prayson-wilfred-daniel-73082640'"
      ]
     },
     "execution_count": 32,
     "metadata": {},
     "output_type": "execute_result"
    }
   ],
   "source": [
    "linkedin.my_profile_id"
   ]
  },
  {
   "cell_type": "code",
   "execution_count": 33,
   "metadata": {},
   "outputs": [],
   "source": [
    "ROOT_URL = 'https://www.linkedin.com'"
   ]
  },
  {
   "cell_type": "code",
   "execution_count": 34,
   "metadata": {},
   "outputs": [],
   "source": [
    "linkedin.driver.get(f'{ROOT_URL}/in/{linkedin.my_profile_id}')"
   ]
  },
  {
   "cell_type": "code",
   "execution_count": 36,
   "metadata": {},
   "outputs": [],
   "source": [
    "# Added to utils\n",
    "\n",
    "# def show_element(element,driver):\n",
    "    \n",
    "#     driver.maximize_window()\n",
    "#     location = element.location\n",
    "#     size = element.size\n",
    "#     _ = driver.get_screenshot_as_png()\n",
    "#     img = Image.open(pd.compat.BytesIO(_))\n",
    "    \n",
    "#     # region of interest\n",
    "#     roi = (location['x'], \n",
    "#            location['y'],\n",
    "#            location['x'] + size['width'], \n",
    "#            location['y'] + size['height'])\n",
    "    \n",
    "#     img = img.crop(roi)\n",
    "#     img.show()"
   ]
  },
  {
   "cell_type": "code",
   "execution_count": 37,
   "metadata": {},
   "outputs": [],
   "source": [
    "\n",
    "# s = linkedin.driver.find_element_by_id('ember45')\n",
    "# show_element(s,linkedin.driver)"
   ]
  },
  {
   "cell_type": "code",
   "execution_count": null,
   "metadata": {},
   "outputs": [],
   "source": []
  }
 ],
 "metadata": {
  "kernelspec": {
   "display_name": "Python 3",
   "language": "python",
   "name": "python3"
  },
  "language_info": {
   "codemirror_mode": {
    "name": "ipython",
    "version": 3
   },
   "file_extension": ".py",
   "mimetype": "text/x-python",
   "name": "python",
   "nbconvert_exporter": "python",
   "pygments_lexer": "ipython3",
   "version": "3.7.3"
  }
 },
 "nbformat": 4,
 "nbformat_minor": 2
}

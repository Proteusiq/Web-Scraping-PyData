{
  "nbformat": 4,
  "nbformat_minor": 0,
  "metadata": {
    "colab": {
      "name": "Example.ipynb",
      "provenance": [],
      "authorship_tag": "ABX9TyPdW8pCSjwXzGxoXHmzUBjB",
      "include_colab_link": true
    },
    "kernelspec": {
      "name": "python3",
      "display_name": "Python 3"
    },
    "language_info": {
      "name": "python"
    }
  },
  "cells": [
    {
      "cell_type": "markdown",
      "metadata": {
        "id": "view-in-github",
        "colab_type": "text"
      },
      "source": [
        "<a href=\"https://colab.research.google.com/github/Proteusiq/Web-Scraping-PyData/blob/master/PDF.ipynb\" target=\"_parent\"><img src=\"https://colab.research.google.com/assets/colab-badge.svg\" alt=\"Open In Colab\"/></a>"
      ]
    },
    {
      "cell_type": "code",
      "metadata": {
        "colab": {
          "base_uri": "https://localhost:8080/"
        },
        "id": "QKdKGG24KGdg",
        "outputId": "0d115db5-d1ea-4ab6-cb3a-b7f84f302b4f"
      },
      "source": [
        "!pip install pyPDF2"
      ],
      "execution_count": 9,
      "outputs": [
        {
          "output_type": "stream",
          "text": [
            "Requirement already satisfied: pyPDF2 in /usr/local/lib/python3.7/dist-packages (1.26.0)\n"
          ],
          "name": "stdout"
        }
      ]
    },
    {
      "cell_type": "code",
      "metadata": {
        "id": "7K1LGaHxKHFY"
      },
      "source": [
        "import io\n",
        "import requests\n",
        "import PyPDF2\n",
        "\n",
        "\n",
        "URI = \"https://www.environment.gov.au/system/files/resources/7f15bfc1-ed3d-40b6-a177-c81349028ef6/files/aust-national-guidelines-whale-dolphin-watching-2017.pdf\"\n",
        "\n",
        "r = requests.get(URI)\n",
        "with io.BytesIO(r.content) as f:\n",
        "  reader = PyPDF2.PdfFileReader(f)\n",
        "  num_pages = reader.numPages\n",
        "  \n",
        "  data = []\n",
        "  for page in range(num_pages):\n",
        "    page_data = reader.getPage(page)\n",
        "    data.append(page_data.extractText())\n",
        "\n"
      ],
      "execution_count": 14,
      "outputs": []
    },
    {
      "cell_type": "code",
      "metadata": {
        "colab": {
          "base_uri": "https://localhost:8080/",
          "height": 74
        },
        "id": "8ULk_TJcKHcf",
        "outputId": "adec3436-0163-42fc-c9fc-4bf39b0b81f2"
      },
      "source": [
        "data[0]"
      ],
      "execution_count": 15,
      "outputs": [
        {
          "output_type": "execute_result",
          "data": {
            "application/vnd.google.colaboratory.intrinsic+json": {
              "type": "string"
            },
            "text/plain": [
              "'Australian National Guidelines \\nfor Whale and Dolphin Watching \\n2017\\n'"
            ]
          },
          "metadata": {
            "tags": []
          },
          "execution_count": 0
        }
      ]
    }
  ]
}
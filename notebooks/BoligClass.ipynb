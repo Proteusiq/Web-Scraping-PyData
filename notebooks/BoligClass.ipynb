{
 "cells": [
  {
   "cell_type": "code",
   "execution_count": 1,
   "metadata": {},
   "outputs": [],
   "source": [
    "import numpy as np\n",
    "import pandas as pd\n",
    "from requests import Session"
   ]
  },
  {
   "cell_type": "code",
   "execution_count": 2,
   "metadata": {},
   "outputs": [],
   "source": [
    "headers = {'User-Agent': 'Mozilla/5.0 (X11; Linux x86_64) '\\\n",
    "                         'AppleWebKit/537.36 (KHTML, like Gecko) '\\\n",
    "                         'Chrome/75.0.3770.80 Safari/537.36',\n",
    "          'Content-Type': 'application/json;charset=UTF-8'}\n",
    "\n",
    "# Add headers\n",
    "httpx = Session()\n",
    "httpx.headers.update(headers)"
   ]
  },
  {
   "cell_type": "code",
   "execution_count": 3,
   "metadata": {},
   "outputs": [],
   "source": [
    "URL = 'https://home.dk/umbraco/backoffice/home-api/Search'\n",
    "params = dict(CurrentPageNumber=0, \n",
    "              SearchResultsPerPage=200)"
   ]
  },
  {
   "cell_type": "code",
   "execution_count": 4,
   "metadata": {},
   "outputs": [],
   "source": [
    "r = httpx.get(URL, params=params)"
   ]
  },
  {
   "cell_type": "code",
   "execution_count": 5,
   "metadata": {},
   "outputs": [
    {
     "data": {
      "text/plain": [
       "<Response [200]>"
      ]
     },
     "execution_count": 5,
     "metadata": {},
     "output_type": "execute_result"
    }
   ],
   "source": [
    "r"
   ]
  },
  {
   "cell_type": "code",
   "execution_count": 6,
   "metadata": {},
   "outputs": [],
   "source": [
    "data = r.json()"
   ]
  },
  {
   "cell_type": "code",
   "execution_count": 7,
   "metadata": {},
   "outputs": [
    {
     "data": {
      "text/plain": [
       "(200, 52340)"
      ]
     },
     "execution_count": 7,
     "metadata": {},
     "output_type": "execute_result"
    }
   ],
   "source": [
    "df = pd.DataFrame(data['searchResults'])\n",
    "data['searchResultsPerPage'], data['totalSearchResults']"
   ]
  },
  {
   "cell_type": "code",
   "execution_count": 8,
   "metadata": {},
   "outputs": [
    {
     "data": {
      "text/plain": [
       "(261.7, 262)"
      ]
     },
     "execution_count": 8,
     "metadata": {},
     "output_type": "execute_result"
    }
   ],
   "source": [
    "loops = data['totalSearchResults']/data['searchResultsPerPage']\n",
    "loops, np.ceil(loops).astype(int)"
   ]
  },
  {
   "cell_type": "code",
   "execution_count": 9,
   "metadata": {},
   "outputs": [],
   "source": [
    "# Gearing up"
   ]
  },
  {
   "cell_type": "code",
   "execution_count": 10,
   "metadata": {},
   "outputs": [],
   "source": [
    "from abc import ABC, abstractmethod\n",
    "from concurrent.futures import ThreadPoolExecutor\n",
    "from datetime import datetime"
   ]
  },
  {
   "cell_type": "code",
   "execution_count": 11,
   "metadata": {},
   "outputs": [],
   "source": [
    "class Bolig(ABC):\n",
    "\n",
    "    def __init__(self, url, headers=None):\n",
    "        \n",
    "        session = Session()\n",
    "\n",
    "        self.BASE_URL = url\n",
    "        \n",
    "\n",
    "        if headers is None:\n",
    "            headers = {'User-Agent': ('Mozilla/5.0 (Macintosh; Intel Mac OS X 10_10_1) '\n",
    "                          'AppleWebKit/537.36 (KHTML, like Gecko) '\n",
    "                          'Chrome/39.0.2171.95 Safari/537.36'),\n",
    "                    'Content-Type': 'application/json'}\n",
    "\n",
    "        session.headers.update(headers)\n",
    "\n",
    "        self.session = session\n",
    "        self.meta_data = None\n",
    "        self.store =  pd.DataFrame()\n",
    "\n",
    "    \n",
    "    def __repr__(self):\n",
    "        return f'{self.__class__.__name__}(API={repr(self.BASE_URL)})'\n",
    "\n",
    "    \n",
    "    @abstractmethod\n",
    "    def get_page(self, *args, **kwargs):\n",
    "        pass\n",
    "    \n",
    "    \n",
    "    @abstractmethod\n",
    "    def get_pages(self, *args, **kwargs):\n",
    "        pass"
   ]
  },
  {
   "cell_type": "code",
   "execution_count": 12,
   "metadata": {},
   "outputs": [],
   "source": [
    "class Home(Bolig):\n",
    "    \n",
    "    '''\n",
    "    expects Base URL\n",
    "    e.g. \n",
    "        url = 'https://home.dk/umbraco/backoffice/home-api/Search'      \n",
    "    '''\n",
    "\n",
    "    def get_page(self, page=0, pagesize=100 ,verbose=False):\n",
    "        '''Gather Data From Home API\n",
    "            page:int page number. default value 0\n",
    "            pagesize:int number of boligs in a page. default value 100\n",
    "            verbose:bool print mining progress. default value False\n",
    "        '''\n",
    "        \n",
    "        params = {'CurrentPageNumber':page,\n",
    "                 'SearchResultsPerPage':pagesize,\n",
    "                 }\n",
    "        \n",
    "\n",
    "        r = self.session.get(self.BASE_URL, params=params)\n",
    "\n",
    "        if r.ok:\n",
    "            data = r.json()\n",
    "            \n",
    "            self.store = self.store.append(\n",
    "                    pd.DataFrame(data.get('searchResults')), ignore_index=True)\n",
    "            self.max_pages = loops = np.ceil(\n",
    "                                data['totalSearchResults']/data['searchResultsPerPage']\n",
    "                            ).astype(int)\n",
    "\n",
    "        else:\n",
    "            self.store\n",
    "            \n",
    "        if verbose:\n",
    "            print(f'[+] Gathering data from page {page:}.{\" \":>5}Found {len(self.store):>5} estates'\n",
    "                 f'{\" \":>3}Time {datetime.now().strftime(\"%d-%m-%Y %H:%M:%S\")}')\n",
    "\n",
    "        return self\n",
    "\n",
    "    \n",
    "    def get_pages(self, start_page=0, end_page=None, pagesize=100, workers=4, verbose=False):\n",
    "        '''\n",
    "         Parallel Gathering Data From Home\n",
    "            start_page:int page number to start. default value 0\n",
    "            end_page:int page number to stop. default value None\n",
    "            pagesize:int number of boligs per page. default valeu 100\n",
    "            verbose:bool print mining progress. default value False\n",
    "        '''\n",
    "        \n",
    "        # Make the first call to get total number of pages for split call pagesize split\n",
    "        \n",
    "        self.get_page(page=start_page, pagesize=pagesize, verbose=verbose)\n",
    "        \n",
    "        if end_page is None:\n",
    "            total_pages = self.max_pages\n",
    "        else:\n",
    "            total_pages = start_page + end_page + 1\n",
    "        \n",
    "        # since we got the first page, we can get the rest\n",
    "        \n",
    "        if start_page <= total_pages:\n",
    "            start_page += 1\n",
    "\n",
    "            func = lambda pages: [self.get_page(page, pagesize, verbose=verbose) for page in pages]\n",
    "            pages_split = np.array_split(np.arange(start_page,total_pages+1), workers)\n",
    "        \n",
    "            with ThreadPoolExecutor(max_workers=workers) as executor:\n",
    "                _ = [executor.submit(func,split) for split in pages_split]\n",
    "        \n",
    "        return self"
   ]
  },
  {
   "cell_type": "code",
   "execution_count": 13,
   "metadata": {},
   "outputs": [],
   "source": [
    "# Play time"
   ]
  },
  {
   "cell_type": "code",
   "execution_count": 14,
   "metadata": {},
   "outputs": [
    {
     "data": {
      "text/plain": [
       "Home(API='https://home.dk/umbraco/backoffice/home-api/Search')"
      ]
     },
     "execution_count": 14,
     "metadata": {},
     "output_type": "execute_result"
    }
   ],
   "source": [
    "homes = Home(url='https://home.dk/umbraco/backoffice/home-api/Search')\n",
    "homes"
   ]
  },
  {
   "cell_type": "code",
   "execution_count": 15,
   "metadata": {},
   "outputs": [
    {
     "name": "stdout",
     "output_type": "stream",
     "text": [
      "[+] Start single thread calls\n",
      "\n",
      "[+] Gathering data from page 0.     Found    15 estates   Time 11-05-2020 16:33:17\n",
      "[+] Gathering data from page 1.     Found    30 estates   Time 11-05-2020 16:33:17\n",
      "[+] Gathering data from page 2.     Found    45 estates   Time 11-05-2020 16:33:17\n",
      "[+] Gathering data from page 3.     Found    60 estates   Time 11-05-2020 16:33:18\n",
      "[+] Gathering data from page 4.     Found    75 estates   Time 11-05-2020 16:33:18\n",
      "[+] Gathering data from page 5.     Found    90 estates   Time 11-05-2020 16:33:18\n",
      "[+] Gathering data from page 6.     Found   104 estates   Time 11-05-2020 16:33:18\n",
      "[+] Gathering data from page 7.     Found   119 estates   Time 11-05-2020 16:33:18\n",
      "[+] Gathering data from page 8.     Found   134 estates   Time 11-05-2020 16:33:19\n",
      "[+] Gathering data from page 9.     Found   148 estates   Time 11-05-2020 16:33:19\n"
     ]
    }
   ],
   "source": [
    " # one call at a time\n",
    "print('[+] Start single thread calls\\n')\n",
    "_ = [homes.get_page(page=page, pagesize=15, verbose=True) for page in range(0,10)]"
   ]
  },
  {
   "cell_type": "code",
   "execution_count": 16,
   "metadata": {},
   "outputs": [
    {
     "name": "stdout",
     "output_type": "stream",
     "text": [
      "Data Stored 148 rows\n",
      "\n"
     ]
    }
   ],
   "source": [
    "df = homes.store\n",
    "print(f'Data Stored {df.shape[0]} rows\\n')"
   ]
  },
  {
   "cell_type": "code",
   "execution_count": 17,
   "metadata": {},
   "outputs": [
    {
     "data": {
      "text/html": [
       "<div>\n",
       "<style scoped>\n",
       "    .dataframe tbody tr th:only-of-type {\n",
       "        vertical-align: middle;\n",
       "    }\n",
       "\n",
       "    .dataframe tbody tr th {\n",
       "        vertical-align: top;\n",
       "    }\n",
       "\n",
       "    .dataframe thead th {\n",
       "        text-align: right;\n",
       "    }\n",
       "</style>\n",
       "<table border=\"1\" class=\"dataframe\">\n",
       "  <thead>\n",
       "    <tr style=\"text-align: right;\">\n",
       "      <th></th>\n",
       "      <th>aabenthusNicename</th>\n",
       "      <th>aabenthusShowRegistration</th>\n",
       "      <th>adresse</th>\n",
       "      <th>andenmaegler</th>\n",
       "      <th>billedeUrl</th>\n",
       "      <th>boligKanLejes</th>\n",
       "      <th>boligOrGrundAreal</th>\n",
       "      <th>boligurl</th>\n",
       "      <th>city</th>\n",
       "      <th>ejendomstypePrimaerNicename</th>\n",
       "      <th>...</th>\n",
       "      <th>lng</th>\n",
       "      <th>openHouseEndDate</th>\n",
       "      <th>openHouseStartDate</th>\n",
       "      <th>overskrift2</th>\n",
       "      <th>pictures</th>\n",
       "      <th>postal</th>\n",
       "      <th>price</th>\n",
       "      <th>sagsnummer</th>\n",
       "      <th>showNewPrice</th>\n",
       "      <th>solgtBolig</th>\n",
       "    </tr>\n",
       "  </thead>\n",
       "  <tbody>\n",
       "    <tr>\n",
       "      <th>0</th>\n",
       "      <td></td>\n",
       "      <td>False</td>\n",
       "      <td>Sæbyvej 30</td>\n",
       "      <td>False</td>\n",
       "      <td>https://home.mindworking.eu/resources/shops/82...</td>\n",
       "      <td>0</td>\n",
       "      <td>148</td>\n",
       "      <td>https://home.dk/boligkatalog/broenderslev/9340...</td>\n",
       "      <td>Asaa</td>\n",
       "      <td>Villa</td>\n",
       "      <td>...</td>\n",
       "      <td>10.409491</td>\n",
       "      <td></td>\n",
       "      <td></td>\n",
       "      <td>Meget pæn tilstandsrapport!</td>\n",
       "      <td>[{'PicId': 3357022, 'CaseId': 10535472, 'CaseN...</td>\n",
       "      <td>9340</td>\n",
       "      <td>648.000</td>\n",
       "      <td>8240000127</td>\n",
       "      <td>False</td>\n",
       "      <td>False</td>\n",
       "    </tr>\n",
       "    <tr>\n",
       "      <th>1</th>\n",
       "      <td></td>\n",
       "      <td>False</td>\n",
       "      <td>Blåbærvej 8</td>\n",
       "      <td>False</td>\n",
       "      <td>https://home.mindworking.eu/resources/shops/62...</td>\n",
       "      <td>0</td>\n",
       "      <td>97</td>\n",
       "      <td>https://home.dk/boligkatalog/vejen/6600/huse-v...</td>\n",
       "      <td>Vejen</td>\n",
       "      <td>Villa</td>\n",
       "      <td>...</td>\n",
       "      <td>9.149376</td>\n",
       "      <td></td>\n",
       "      <td></td>\n",
       "      <td>Dejlig sydvendt have med hyggelig terrasse med...</td>\n",
       "      <td>[{'PicId': 3025962, 'CaseId': 10402314, 'CaseN...</td>\n",
       "      <td>6600</td>\n",
       "      <td>845.000</td>\n",
       "      <td>6220000154</td>\n",
       "      <td>False</td>\n",
       "      <td>False</td>\n",
       "    </tr>\n",
       "  </tbody>\n",
       "</table>\n",
       "<p>2 rows × 28 columns</p>\n",
       "</div>"
      ],
      "text/plain": [
       "  aabenthusNicename  aabenthusShowRegistration      adresse  andenmaegler  \\\n",
       "0                                        False   Sæbyvej 30         False   \n",
       "1                                        False  Blåbærvej 8         False   \n",
       "\n",
       "                                          billedeUrl  boligKanLejes  \\\n",
       "0  https://home.mindworking.eu/resources/shops/82...              0   \n",
       "1  https://home.mindworking.eu/resources/shops/62...              0   \n",
       "\n",
       "   boligOrGrundAreal                                           boligurl  \\\n",
       "0                148  https://home.dk/boligkatalog/broenderslev/9340...   \n",
       "1                 97  https://home.dk/boligkatalog/vejen/6600/huse-v...   \n",
       "\n",
       "    city ejendomstypePrimaerNicename    ...            lng openHouseEndDate  \\\n",
       "0   Asaa                       Villa    ...      10.409491                    \n",
       "1  Vejen                       Villa    ...       9.149376                    \n",
       "\n",
       "   openHouseStartDate                                        overskrift2  \\\n",
       "0                                            Meget pæn tilstandsrapport!   \n",
       "1                      Dejlig sydvendt have med hyggelig terrasse med...   \n",
       "\n",
       "                                            pictures  postal     price  \\\n",
       "0  [{'PicId': 3357022, 'CaseId': 10535472, 'CaseN...    9340  648.000    \n",
       "1  [{'PicId': 3025962, 'CaseId': 10402314, 'CaseN...    6600  845.000    \n",
       "\n",
       "   sagsnummer  showNewPrice solgtBolig  \n",
       "0  8240000127         False      False  \n",
       "1  6220000154         False      False  \n",
       "\n",
       "[2 rows x 28 columns]"
      ]
     },
     "execution_count": 17,
     "metadata": {},
     "output_type": "execute_result"
    }
   ],
   "source": [
    "df.head(2)"
   ]
  },
  {
   "cell_type": "code",
   "execution_count": 18,
   "metadata": {},
   "outputs": [
    {
     "data": {
      "text/plain": [
       "0"
      ]
     },
     "execution_count": 18,
     "metadata": {},
     "output_type": "execute_result"
    }
   ],
   "source": [
    "df.duplicated(['boligurl']).sum()"
   ]
  },
  {
   "cell_type": "code",
   "execution_count": 19,
   "metadata": {},
   "outputs": [],
   "source": [
    "# df = df.drop_duplicates(subset=['boligurl'])"
   ]
  },
  {
   "cell_type": "code",
   "execution_count": 20,
   "metadata": {},
   "outputs": [
    {
     "data": {
      "text/plain": [
       "3490"
      ]
     },
     "execution_count": 20,
     "metadata": {},
     "output_type": "execute_result"
    }
   ],
   "source": [
    "homes.max_pages"
   ]
  },
  {
   "cell_type": "code",
   "execution_count": 21,
   "metadata": {},
   "outputs": [
    {
     "name": "stdout",
     "output_type": "stream",
     "text": [
      "[+] Start 5 threads calls\n",
      "\n",
      "[+] Gathering data from page 10.     Found   163 estates   Time 11-05-2020 16:33:19\n",
      "[+] Gathering data from page 11.     Found   178 estates   Time 11-05-2020 16:33:19\n",
      "[+] Gathering data from page 17.     Found   193 estates   Time 11-05-2020 16:33:20\n",
      "[+] Gathering data from page 18.     Found   208 estates   Time 11-05-2020 16:33:21\n",
      "[+] Gathering data from page 19.     Found   223 estates   Time 11-05-2020 16:33:22\n",
      "[+] Gathering data from page 12.     Found   238 estates   Time 11-05-2020 16:33:22\n",
      "[+] Gathering data from page 13.     Found   253 estates   Time 11-05-2020 16:33:23\n",
      "[+] Gathering data from page 14.     Found   268 estates   Time 11-05-2020 16:33:24\n",
      "[+] Gathering data from page 15.     Found   282 estates   Time 11-05-2020 16:33:25\n",
      "[+] Gathering data from page 16.     Found   295 estates   Time 11-05-2020 16:33:26\n",
      "[+] Gathering data from page 20.     Found   309 estates   Time 11-05-2020 16:33:27\n",
      "[+] Gathering data from page 21.     Found   324 estates   Time 11-05-2020 16:33:27\n",
      "[+] Gathering data from page 27.     Found   338 estates   Time 11-05-2020 16:33:28\n",
      "[+] Gathering data from page 28.     Found   352 estates   Time 11-05-2020 16:33:29\n",
      "[+] Gathering data from page 29.     Found   367 estates   Time 11-05-2020 16:33:30\n",
      "[+] Gathering data from page 30.     Found   382 estates   Time 11-05-2020 16:33:31\n",
      "[+] Gathering data from page 31.     Found   395 estates   Time 11-05-2020 16:33:32\n",
      "[+] Gathering data from page 22.     Found   410 estates   Time 11-05-2020 16:33:33\n",
      "[+] Gathering data from page 23.     Found   424 estates   Time 11-05-2020 16:33:34\n",
      "[+] Gathering data from page 24.     Found   439 estates   Time 11-05-2020 16:33:35\n",
      "[+] Gathering data from page 25.     Found   454 estates   Time 11-05-2020 16:33:36\n",
      "[+] Gathering data from page 32.     Found   467 estates   Time 11-05-2020 16:33:37\n",
      "[+] Gathering data from page 33.     Found   482 estates   Time 11-05-2020 16:33:38\n",
      "[+] Gathering data from page 34.     Found   497 estates   Time 11-05-2020 16:33:38\n",
      "[+] Gathering data from page 35.     Found   511 estates   Time 11-05-2020 16:33:39\n",
      "[+] Gathering data from page 36.     Found   526 estates   Time 11-05-2020 16:33:40\n",
      "[+] Gathering data from page 26.     Found   540 estates   Time 11-05-2020 16:33:41\n"
     ]
    },
    {
     "data": {
      "text/plain": [
       "Home(API='https://home.dk/umbraco/backoffice/home-api/Search')"
      ]
     },
     "execution_count": 21,
     "metadata": {},
     "output_type": "execute_result"
    }
   ],
   "source": [
    "# multipe calls at once\n",
    "workers = 5\n",
    "print(f'[+] Start {workers} threads calls\\n')\n",
    "homes.get_pages(start_page=10, end_page=25, pagesize=15, workers=workers, verbose=True)"
   ]
  },
  {
   "cell_type": "code",
   "execution_count": 22,
   "metadata": {},
   "outputs": [
    {
     "name": "stdout",
     "output_type": "stream",
     "text": [
      "Data Stored 540 rows\n",
      "\n"
     ]
    }
   ],
   "source": [
    "print(f'Data Stored {homes.store.shape[0]} rows\\n')"
   ]
  },
  {
   "cell_type": "code",
   "execution_count": 23,
   "metadata": {},
   "outputs": [],
   "source": [
    "# We can use the base class to get other apis"
   ]
  },
  {
   "cell_type": "code",
   "execution_count": 24,
   "metadata": {},
   "outputs": [],
   "source": [
    "class BoligaRecent(Bolig):\n",
    "    \n",
    "    '''\n",
    "    \n",
    "    Request URL: https://api.boliga.dk/api/v2/search/results?pageSize=50&page=2\n",
    "\n",
    "    expects Base URL\n",
    "    e.g. \n",
    "        url = 'https://api.boliga.dk/api/v2/search/results'      \n",
    "    '''\n",
    "\n",
    "    def get_page(self, page=0, pagesize=100 ,verbose=False):\n",
    "        '''Gather Data From Home API\n",
    "            page:int page number. default value 0\n",
    "            pagesize:int number of boligs in a page. default value 100\n",
    "            verbose:bool print mining progress. default value False\n",
    "        '''\n",
    "        \n",
    "        params = {'page':page,\n",
    "                 'pageSize':pagesize,\n",
    "                 }\n",
    "        \n",
    "\n",
    "        r = self.session.get(self.BASE_URL, params=params)\n",
    "\n",
    "        if r.ok:\n",
    "            data = r.json()\n",
    "            \n",
    "            self.store = self.store.append(\n",
    "                    pd.DataFrame(data.get('results')), ignore_index=True)\n",
    "            self.max_pages = data.get('totalPages')\n",
    "\n",
    "        else:\n",
    "            self.store\n",
    "            \n",
    "        if verbose:\n",
    "            print(f'[+] Gathering data from page {page:}.{\" \":>5}Found {len(self.store):>5} estates'\n",
    "                 f'{\" \":>3}Time {datetime.now().strftime(\"%d-%m-%Y %H:%M:%S\")}')\n",
    "\n",
    "        return self\n",
    "\n",
    "    \n",
    "    def get_pages(self, start_page=0, end_page=None, pagesize=100, workers=4, verbose=False):\n",
    "        '''\n",
    "         Parallel Gathering Data From Home\n",
    "            start_page:int page number to start. default value 0\n",
    "            end_page:int page number to stop. default value None\n",
    "            pagesize:int number of boligs per page. default valeu 100\n",
    "            verbose:bool print mining progress. default value False\n",
    "        '''\n",
    "        \n",
    "        # Make the first call to get total number of pages for split call pagesize split\n",
    "        \n",
    "        self.get_page(page=start_page, pagesize=pagesize, verbose=verbose)\n",
    "        \n",
    "        if end_page is None:\n",
    "            total_pages = self.max_pages\n",
    "        else:\n",
    "            total_pages = start_page + end_page + 1\n",
    "        \n",
    "        # since we got the first page, we can get the rest\n",
    "        \n",
    "        if start_page <= total_pages:\n",
    "            start_page += 1\n",
    "\n",
    "            func = lambda pages: [self.get_page(page, pagesize, verbose=verbose) for page in pages]\n",
    "            pages_split = np.array_split(np.arange(start_page,total_pages+1), workers)\n",
    "        \n",
    "            with ThreadPoolExecutor(max_workers=workers) as executor:\n",
    "                _ = [executor.submit(func,split) for split in pages_split]\n",
    "        \n",
    "        return self"
   ]
  },
  {
   "cell_type": "code",
   "execution_count": 25,
   "metadata": {},
   "outputs": [],
   "source": [
    "boliga = BoligaRecent(url='https://api.boliga.dk/api/v2/search/results')"
   ]
  },
  {
   "cell_type": "code",
   "execution_count": 26,
   "metadata": {},
   "outputs": [
    {
     "name": "stdout",
     "output_type": "stream",
     "text": [
      "[+] Gathering data from page 1.     Found   100 estates   Time 11-05-2020 16:33:42\n"
     ]
    },
    {
     "data": {
      "text/plain": [
       "BoligaRecent(API='https://api.boliga.dk/api/v2/search/results')"
      ]
     },
     "execution_count": 26,
     "metadata": {},
     "output_type": "execute_result"
    }
   ],
   "source": [
    "boliga.get_page(page=1, verbose=True)"
   ]
  },
  {
   "cell_type": "code",
   "execution_count": 27,
   "metadata": {},
   "outputs": [
    {
     "name": "stdout",
     "output_type": "stream",
     "text": [
      "[+] Gathering data from page 1.     Found   200 estates   Time 11-05-2020 16:33:43\n",
      "[+] Gathering data from page 2.     Found   300 estates   Time 11-05-2020 16:33:44\n",
      "[+] Gathering data from page 3.     Found   400 estates   Time 11-05-2020 16:33:45\n",
      "[+] Gathering data from page 4.     Found   500 estates   Time 11-05-2020 16:33:46\n"
     ]
    },
    {
     "data": {
      "text/plain": [
       "[BoligaRecent(API='https://api.boliga.dk/api/v2/search/results'),\n",
       " BoligaRecent(API='https://api.boliga.dk/api/v2/search/results'),\n",
       " BoligaRecent(API='https://api.boliga.dk/api/v2/search/results'),\n",
       " BoligaRecent(API='https://api.boliga.dk/api/v2/search/results')]"
      ]
     },
     "execution_count": 27,
     "metadata": {},
     "output_type": "execute_result"
    }
   ],
   "source": [
    "_ = [boliga.get_page(page=page, verbose=True) for page in range(1,5)]"
   ]
  },
  {
   "cell_type": "code",
   "execution_count": 28,
   "metadata": {},
   "outputs": [
    {
     "data": {
      "text/plain": [
       "500"
      ]
     },
     "execution_count": 28,
     "metadata": {},
     "output_type": "execute_result"
    }
   ],
   "source": [
    "len(boliga.store)"
   ]
  },
  {
   "cell_type": "code",
   "execution_count": 29,
   "metadata": {},
   "outputs": [
    {
     "name": "stdout",
     "output_type": "stream",
     "text": [
      "[+] Gathering data from page 6.     Found   700 estates   Time 11-05-2020 16:33:47\n",
      "[+] Gathering data from page 9.     Found   900 estates   Time 11-05-2020 16:33:48\n",
      "[+] Gathering data from page 15.     Found  1100 estates   Time 11-05-2020 16:33:49\n",
      "[+] Gathering data from page 13.     Found  1100 estates   Time 11-05-2020 16:33:49\n",
      "[+] Gathering data from page 11.     Found  1300 estates   Time 11-05-2020 16:33:49\n",
      "[+] Gathering data from page 7.     Found  1500 estates   Time 11-05-2020 16:33:49\n",
      "[+] Gathering data from page 17.     Found  1700 estates   Time 11-05-2020 16:33:49\n",
      "[+] Gathering data from page 10.     Found  1900 estates   Time 11-05-2020 16:33:50\n",
      "[+] Gathering data from page 16.     Found  2100 estates   Time 11-05-2020 16:33:50\n",
      "[+] Gathering data from page 12.     Found  2300 estates   Time 11-05-2020 16:33:50\n",
      "[+] Gathering data from page 14.     Found  2500 estates   Time 11-05-2020 16:33:50\n",
      "[+] Gathering data from page 8.     Found  2700 estates   Time 11-05-2020 16:33:50\n"
     ]
    },
    {
     "data": {
      "text/plain": [
       "BoligaRecent(API='https://api.boliga.dk/api/v2/search/results')"
      ]
     },
     "execution_count": 29,
     "metadata": {},
     "output_type": "execute_result"
    }
   ],
   "source": [
    "boliga.get_pages(start_page=6,end_page=10, pagesize=200, workers=6, verbose=True)"
   ]
  },
  {
   "cell_type": "code",
   "execution_count": 30,
   "metadata": {},
   "outputs": [
    {
     "data": {
      "text/plain": [
       "2700"
      ]
     },
     "execution_count": 30,
     "metadata": {},
     "output_type": "execute_result"
    }
   ],
   "source": [
    "len(boliga.store)"
   ]
  },
  {
   "cell_type": "code",
   "execution_count": 31,
   "metadata": {},
   "outputs": [],
   "source": [
    "dt = boliga.store"
   ]
  },
  {
   "cell_type": "code",
   "execution_count": 32,
   "metadata": {},
   "outputs": [
    {
     "data": {
      "text/plain": [
       "agentDisplayName            object\n",
       "agentRegId                   int64\n",
       "area                         int64\n",
       "basementSize                 int64\n",
       "buildYear                    int64\n",
       "city                        object\n",
       "createdDate                 object\n",
       "dawaId                      object\n",
       "daysForSale                  int64\n",
       "domainId                     int64\n",
       "downPayment                  int64\n",
       "energyClass                 object\n",
       "exp                          int64\n",
       "floor                      float64\n",
       "groupKey                    object\n",
       "guid                        object\n",
       "id                           int64\n",
       "images                      object\n",
       "inWatchlist                   bool\n",
       "isActive                      bool\n",
       "isForeclosure                 bool\n",
       "isPremiumAgent                bool\n",
       "itemType                     int64\n",
       "latitude                   float64\n",
       "longitude                  float64\n",
       "lotSize                      int64\n",
       "municipality                 int64\n",
       "net                          int64\n",
       "openHouse                   object\n",
       "price                        int64\n",
       "priceChangePercentTotal      int64\n",
       "propertyType                 int64\n",
       "rooms                      float64\n",
       "selfsale                      bool\n",
       "size                         int64\n",
       "squaremeterPrice           float64\n",
       "street                      object\n",
       "views                        int64\n",
       "zipCode                      int64\n",
       "dtype: object"
      ]
     },
     "execution_count": 32,
     "metadata": {},
     "output_type": "execute_result"
    }
   ],
   "source": [
    "dt.dtypes"
   ]
  },
  {
   "cell_type": "code",
   "execution_count": null,
   "metadata": {},
   "outputs": [],
   "source": []
  }
 ],
 "metadata": {
  "kernelspec": {
   "display_name": "Adhoc",
   "language": "python",
   "name": "adhoc"
  },
  "language_info": {
   "codemirror_mode": {
    "name": "ipython",
    "version": 3
   },
   "file_extension": ".py",
   "mimetype": "text/x-python",
   "name": "python",
   "nbconvert_exporter": "python",
   "pygments_lexer": "ipython3",
   "version": "3.7.4"
  }
 },
 "nbformat": 4,
 "nbformat_minor": 4
}

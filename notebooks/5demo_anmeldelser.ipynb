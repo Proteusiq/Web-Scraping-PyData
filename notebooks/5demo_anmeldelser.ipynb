{
 "cells": [
  {
   "cell_type": "code",
   "execution_count": 1,
   "metadata": {},
   "outputs": [],
   "source": [
    "from fuzzywuzzy import fuzz\n",
    "from requests_html import HTMLSession"
   ]
  },
  {
   "cell_type": "code",
   "execution_count": 2,
   "metadata": {},
   "outputs": [],
   "source": [
    "session = HTMLSession()"
   ]
  },
  {
   "cell_type": "code",
   "execution_count": 3,
   "metadata": {},
   "outputs": [],
   "source": [
    "URL = 'https://www.ekkofilm.dk/anmeldelser'\n",
    "params = dict(page=2)"
   ]
  },
  {
   "cell_type": "code",
   "execution_count": 4,
   "metadata": {},
   "outputs": [],
   "source": [
    "r = session.get(URL, params=params)"
   ]
  },
  {
   "cell_type": "code",
   "execution_count": 5,
   "metadata": {},
   "outputs": [
    {
     "data": {
      "text/plain": [
       "True"
      ]
     },
     "execution_count": 5,
     "metadata": {},
     "output_type": "execute_result"
    }
   ],
   "source": [
    "r.ok"
   ]
  },
  {
   "cell_type": "code",
   "execution_count": 6,
   "metadata": {},
   "outputs": [
    {
     "data": {
      "text/plain": [
       "{'/',\n",
       " '/abonnement/',\n",
       " '/anmeldelser/',\n",
       " '/anmeldelser/after-life/',\n",
       " '/anmeldelser/apollo-11/',\n",
       " '/anmeldelser/big-little-lies-saeson-2/',\n",
       " '/anmeldelser/booksmart/',\n",
       " '/anmeldelser/de-frivillige/',\n",
       " '/anmeldelser/ice-fire/',\n",
       " '/anmeldelser/john-wick-3-parabellum/',\n",
       " '/anmeldelser/kategori/biografanmeldelse/',\n",
       " '/anmeldelser/kategori/boganmeldelse/',\n",
       " '/anmeldelser/kategori/serieanmeldelse/',\n",
       " '/anmeldelser/kategori/streaminganmeldelse/',\n",
       " '/anmeldelser/kvinde-pa-krigsstien/',\n",
       " '/anmeldelser/kvinden-der-glemte-sin-fortid/',\n",
       " '/anmeldelser/maske-og-menneske/',\n",
       " '/anmeldelser/men-black-international/',\n",
       " '/anmeldelser/pose-saeson-2/',\n",
       " '/anmeldelser/sisters-brothers/',\n",
       " '/anmeldelser/sommer/',\n",
       " '/anmeldelser/transnistra/',\n",
       " '/anmeldelser/vida-saeson/',\n",
       " '/artikler/',\n",
       " '/awards/2018/',\n",
       " '/blogs/',\n",
       " '/om/',\n",
       " '/om/annoncesalg/',\n",
       " '/om/cookie-og-privatlivspolitik/',\n",
       " '/om/hvad-laver-de-med-ekko/',\n",
       " '/om/lossalgssteder/',\n",
       " '/om/om-ekko/',\n",
       " '/shortlist/',\n",
       " '?page=1',\n",
       " '?page=196',\n",
       " '?page=2',\n",
       " '?page=2&o=alpha',\n",
       " '?page=2&o=date',\n",
       " '?page=2&o=rating',\n",
       " '?page=2&o=views',\n",
       " '?page=3',\n",
       " '?page=4',\n",
       " '?page=5',\n",
       " 'https://twitter.com/filmmagasinekko',\n",
       " 'https://www.ekkofilm.dk/feeds/anmeldelser/',\n",
       " 'https://www.ekkofilm.dk/om/kom-gratis-i-biografen/',\n",
       " 'https://www.facebook.com/pages/Filmmagasinet-Ekko/142475479148183'}"
      ]
     },
     "execution_count": 6,
     "metadata": {},
     "output_type": "execute_result"
    }
   ],
   "source": [
    "r.html.links"
   ]
  },
  {
   "cell_type": "code",
   "execution_count": 7,
   "metadata": {},
   "outputs": [],
   "source": [
    "get_ratio = [(fuzz.ratio('/anmeldelser/bookshop/', link), link) for link in r.html.links\n",
    "            if fuzz.ratio('/anmeldelser/bookshop/', link)>50]"
   ]
  },
  {
   "cell_type": "code",
   "execution_count": 8,
   "metadata": {},
   "outputs": [
    {
     "data": {
      "text/plain": [
       "[(65, '/anmeldelser/sisters-brothers/'),\n",
       " (61, '/anmeldelser/after-life/'),\n",
       " (76, '/anmeldelser/sommer/'),\n",
       " (68, '/anmeldelser/vida-saeson/'),\n",
       " (71, '/anmeldelser/apollo-11/'),\n",
       " (55, '/anmeldelser/kategori/biografanmeldelse/'),\n",
       " (60, '/anmeldelser/maske-og-menneske/'),\n",
       " (53, '/anmeldelser/kategori/serieanmeldelse/'),\n",
       " (59, '/anmeldelser/kategori/boganmeldelse/'),\n",
       " (59, '/anmeldelser/john-wick-3-parabellum/'),\n",
       " (64, '/anmeldelser/ice-fire/'),\n",
       " (52, '/anmeldelser/kvinden-der-glemte-sin-fortid/'),\n",
       " (74, '/anmeldelser/'),\n",
       " (57, '/anmeldelser/kvinde-pa-krigsstien/'),\n",
       " (57, '/anmeldelser/big-little-lies-saeson-2/'),\n",
       " (64, '/anmeldelser/transnistra/'),\n",
       " (69, '/anmeldelser/pose-saeson-2/'),\n",
       " (84, '/anmeldelser/booksmart/'),\n",
       " (57, '/anmeldelser/de-frivillige/'),\n",
       " (58, '/anmeldelser/men-black-international/')]"
      ]
     },
     "execution_count": 8,
     "metadata": {},
     "output_type": "execute_result"
    }
   ],
   "source": [
    "get_ratio"
   ]
  },
  {
   "cell_type": "code",
   "execution_count": 9,
   "metadata": {},
   "outputs": [],
   "source": [
    "r = session.get('https://filmz.dk/anmeldelser')"
   ]
  },
  {
   "cell_type": "code",
   "execution_count": 10,
   "metadata": {},
   "outputs": [
    {
     "data": {
      "text/plain": [
       "{'/',\n",
       " '/anmeldelser',\n",
       " '/anmeldelser/page2',\n",
       " '/anmeldelser/page3',\n",
       " '/anmeldelser/page4',\n",
       " '/anmeldelser/page5',\n",
       " '/dansk-komedie-tager-numseselfie-i-foerste-kig-paa-jagtsaeson',\n",
       " '/film/aladdin-2019#anmeldelse-aladdin-2',\n",
       " '/film/annabelle-comes-home#anmeldelse-annabelle-comes-home',\n",
       " '/film/black-mirror-saeson-5#anmeldelse-black-mirror-saeson-5',\n",
       " '/film/brightburn#anmeldelse-brightburn',\n",
       " '/film/de-frivillige#anmeldelse-de-frivillige',\n",
       " '/film/game-of-thrones-saeson-8#anmeldelse-game-of-thrones-saeson-8-afsnit-6',\n",
       " '/film/godzilla-2-king-of-the-monsters#anmeldelse-godzilla-2-king-of-the-monsters',\n",
       " '/film/john-wick-3-parabellum#anmeldelse-john-wick-3-parabellum',\n",
       " '/film/men-in-black-international#anmeldelse-men-in-black-international',\n",
       " '/film/rocketman#anmeldelse-rocketman',\n",
       " '/film/too-old-to-die-young#anmeldelse-too-old-to-die-young',\n",
       " '/film/x-men-dark-phoenix#anmeldelse-x-men-dark-phoenix',\n",
       " '/foerste-trailer-til-reboot-af-charlies-angels',\n",
       " '/warner-bros-hyrer-ny-chef-dc-fans-har-et-oenske-til-hende',\n",
       " '/wulffmorgenthaler-deler-foerste-trailer-til-mugge-vejfesten',\n",
       " '/~anders-brendstrup',\n",
       " '/~andreas-strini',\n",
       " '/~lasse-martin-joergensen',\n",
       " '/~morten-vejlgaard-just',\n",
       " 'https://filmz.dk',\n",
       " 'https://filmz.dk/anmeldelser',\n",
       " 'https://filmz.dk/feeds',\n",
       " 'https://filmz.dk/film',\n",
       " 'https://filmz.dk/forum',\n",
       " 'https://filmz.dk/om-os/faq',\n",
       " 'https://filmz.dk/om-os/information',\n",
       " 'https://filmz.dk/om-os/kontakt',\n",
       " 'https://filmz.dk/video'}"
      ]
     },
     "execution_count": 10,
     "metadata": {},
     "output_type": "execute_result"
    }
   ],
   "source": [
    "r.html.links"
   ]
  },
  {
   "cell_type": "code",
   "execution_count": 11,
   "metadata": {},
   "outputs": [],
   "source": [
    "check = '/film/rocketman#anmeldelse-rocketman'"
   ]
  },
  {
   "cell_type": "code",
   "execution_count": 12,
   "metadata": {},
   "outputs": [
    {
     "data": {
      "text/plain": [
       "[(100, '/film/rocketman#anmeldelse-rocketman'),\n",
       " (57, '/film/john-wick-3-parabellum#anmeldelse-john-wick-3-parabellum'),\n",
       " (55, '/film/de-frivillige#anmeldelse-de-frivillige'),\n",
       " (51, '/film/too-old-to-die-young#anmeldelse-too-old-to-die-young'),\n",
       " (65, '/film/brightburn#anmeldelse-brightburn'),\n",
       " (53,\n",
       "  '/film/men-in-black-international#anmeldelse-men-in-black-international'),\n",
       " (58, '/film/x-men-dark-phoenix#anmeldelse-x-men-dark-phoenix'),\n",
       " (58, '/film/black-mirror-saeson-5#anmeldelse-black-mirror-saeson-5'),\n",
       " (59, '/film/aladdin-2019#anmeldelse-aladdin-2'),\n",
       " (53, 'https://filmz.dk/anmeldelser'),\n",
       " (51, '/film/annabelle-comes-home#anmeldelse-annabelle-comes-home')]"
      ]
     },
     "execution_count": 12,
     "metadata": {},
     "output_type": "execute_result"
    }
   ],
   "source": [
    "[(fuzz.ratio(check, link), link) for link in r.html.links\n",
    "            if fuzz.ratio(check, link)>50]"
   ]
  },
  {
   "cell_type": "code",
   "execution_count": 13,
   "metadata": {},
   "outputs": [],
   "source": [
    "get_url = [(fuzz.ratio(check, link), link) for link in r.html.links\n",
    "            if fuzz.ratio(check, link)>50]\n",
    "\n",
    "BASE_URL = 'https://filmz.dk'"
   ]
  },
  {
   "cell_type": "code",
   "execution_count": 14,
   "metadata": {},
   "outputs": [
    {
     "data": {
      "text/plain": [
       "'/film/rocketman#anmeldelse-rocketman'"
      ]
     },
     "execution_count": 14,
     "metadata": {},
     "output_type": "execute_result"
    }
   ],
   "source": [
    "get_url[0][1]"
   ]
  },
  {
   "cell_type": "code",
   "execution_count": 15,
   "metadata": {},
   "outputs": [],
   "source": [
    "q = session.get(f'{BASE_URL}{get_url[0][1]}')"
   ]
  },
  {
   "cell_type": "code",
   "execution_count": 16,
   "metadata": {},
   "outputs": [
    {
     "data": {
      "text/plain": [
       "[<Element 'div' class=('page-film', 'hasSidebar2', 'single-film') id='page-content'>,\n",
       " <Element 'article' class=('page-film', 'hasSidebar2', 'single-film') id='page-content' itemscope='itemscope' itemtype='http://schema.org/Review' role='article'>]"
      ]
     },
     "execution_count": 16,
     "metadata": {},
     "output_type": "execute_result"
    }
   ],
   "source": [
    "q.html.find('#page-content') #page-content"
   ]
  },
  {
   "cell_type": "code",
   "execution_count": 17,
   "metadata": {},
   "outputs": [],
   "source": [
    "s = q.html.find('#page-content', first=True)"
   ]
  },
  {
   "cell_type": "code",
   "execution_count": 18,
   "metadata": {},
   "outputs": [
    {
     "data": {
      "text/plain": [
       "{'class': ('page-film', 'hasSidebar2', 'single-film'), 'id': 'page-content'}"
      ]
     },
     "execution_count": 18,
     "metadata": {},
     "output_type": "execute_result"
    }
   ],
   "source": [
    "s.attrs"
   ]
  },
  {
   "cell_type": "code",
   "execution_count": 19,
   "metadata": {},
   "outputs": [
    {
     "name": "stdout",
     "output_type": "stream",
     "text": [
      "Anmeldelse\n",
      "Rocketman\n",
      "Udgivet 29. maj 2019 | Af: Morten Vejlgaard Just | Set i biografen\n",
      "4 6\n",
      "Det er den samme film som “Bohemian Rhapsody“. Og en del bedre.\n",
      "Igen er det Dexter Fletcher, der instruerer, som han gjorde det med de afgørende scener i netop “Bohemian Rhapsody”.\n",
      "Igen handler det om en britisk musiker, der vokser op i et hjem med en gammelkonservativ far.\n",
      "Igen forsøger hovedpersonen at skjule sit virkelige jeg bag et nyt kunstnernavn; Farrokh Bulsara blev til Freddie Mercury – nu bliver Reggie Dwight til Elton John.\n",
      "Og igen forsøger ham i centrum at undertrykke sin homoseksualitet ved først at date en pige, inden han igen hemmeligt bliver kærester med sin mandlige manager, der igen er et røvhul, som tager ham for pengene, inden pop-eventyret, der starter på toppen, dykker til bunds i et misbrug af alkohol og stoffer.\n",
      "Igen, igen, igen. “Rocketman” ér “Bohemian Rhapsody”. Alligevel er den anderledes.\n",
      "For til forskel for Rami Maleks falske tænder, der mimede til Queen-kataloget af hitsange, så synger “Rocketman” i en helt anden og højere toneart.\n",
      "Det er en musikalsk film om et musikalsk menneske. Det er en musical.\n",
      "Derfor er det heller ikke en historisk gengivelse af Elton Johns liv som popstjerne, men derimod en fantasifuld digtning over hovedlinjerne i historien om Reggie fra rækkehuset, som blev til paillet-entertaineren Elton.\n",
      "Fokus er på musikken. Taron Egerton synger selv og så godt, så han også kunne skifte navn til Elton John.\n",
      "Og det lige fra den energiske “Saturday Night’s Alright” til den skrøbelige “Your Song”, som han selv komponerer hjemme hos mor.\n",
      "Men sangene ikke bare synges – de performes. Her er “Rocketman” helt i Elton Johns ånd.\n",
      "For “Rocketman” er et musikalsk show, hvor han fysisk svæver under sit amerikanske gennembrud på Troubadour i 1970’ernes Los Angeles, da han synger “Crocodile Rock”, inden han falder til bunden i en swimmingpool, imens han synger titelsangen – under vand!\n",
      "Netop rejsen fra de svævende højder til den dybe bund er det tydelige skema i Dexter Fletchers biopic-musical.\n",
      "Men den tydelige fortælling er godt stof til en musical, der sjældent underspiller, fordi det hele skal synges.\n",
      "Sådan er Elton Johns sange. Tydelige. “Candle in the Wind” ér rørende, imens “I’m Still Standing” konkret handlede om det store comeback efter nedturen.\n",
      "Det er derfor umuligt at være i tvivl om, hvad “Rocketman” vil og kan. Det er det samme igen, igen, igen.\n",
      "Alligevel er “Rocketman” en del bedre end “Bohemian Rhapsody”.\n",
      "Kommentarer til anmeldelsen? Giv din egen mening til kende i diskussionsforummet\n",
      "Trailer\n",
      "Billed-galleri\n",
      "4 billeder\n"
     ]
    }
   ],
   "source": [
    "print(s.text)"
   ]
  },
  {
   "cell_type": "code",
   "execution_count": 20,
   "metadata": {},
   "outputs": [
    {
     "name": "stdout",
     "output_type": "stream",
     "text": [
      "Anmeldelse\n",
      "Rocketman\n",
      "Trailer\n",
      "Billed-galleri\n",
      "4 billeder\n"
     ]
    }
   ],
   "source": [
    "for item in s.find('h1'):\n",
    "    print(item.text)"
   ]
  },
  {
   "cell_type": "code",
   "execution_count": 21,
   "metadata": {},
   "outputs": [
    {
     "data": {
      "text/plain": [
       "[<Element 'img' class=('rating-image', 'rating-filled', 'inreview_rating') src='https://filmz.dk/templates/themes/filmz/images/rating-star-big.png'>,\n",
       " <Element 'img' class=('rating-image', 'rating-filled', 'inreview_rating') src='https://filmz.dk/templates/themes/filmz/images/rating-star-big.png'>,\n",
       " <Element 'img' class=('rating-image', 'rating-filled', 'inreview_rating') src='https://filmz.dk/templates/themes/filmz/images/rating-star-big.png'>,\n",
       " <Element 'img' class=('rating-image', 'rating-filled', 'inreview_rating') src='https://filmz.dk/templates/themes/filmz/images/rating-star-big.png'>,\n",
       " <Element 'img' class=('rating-image', 'rating-empty', 'inreview_rating') src='https://filmz.dk/templates/themes/filmz/images/rating-star-big-faded.png'>,\n",
       " <Element 'img' class=('rating-image', 'rating-empty', 'inreview_rating') src='https://filmz.dk/templates/themes/filmz/images/rating-star-big-faded.png'>]"
      ]
     },
     "execution_count": 21,
     "metadata": {},
     "output_type": "execute_result"
    }
   ],
   "source": [
    "s.find('div.rating.l-r-padding')[0].find('img')\n",
    "#anmeldelse-men-in-black-international > div.rating.l-r-padding > img:nth-child(1)"
   ]
  },
  {
   "cell_type": "code",
   "execution_count": 22,
   "metadata": {},
   "outputs": [
    {
     "data": {
      "text/plain": [
       "{'rating': 4}"
      ]
     },
     "execution_count": 22,
     "metadata": {},
     "output_type": "execute_result"
    }
   ],
   "source": [
    "score = {}\n",
    "score.setdefault('rating', 6)\n",
    "stars = [item.attrs['src'] for item in s.find('div.rating.l-r-padding')[0].find('img')]\n",
    "\n",
    "for star in stars:\n",
    "    if star.endswith('faded.png'):\n",
    "        score['rating'] -=1\n",
    "        \n",
    "score"
   ]
  },
  {
   "cell_type": "code",
   "execution_count": 23,
   "metadata": {},
   "outputs": [
    {
     "name": "stdout",
     "output_type": "stream",
     "text": [
      "Det er den samme film som “Bohemian Rhapsody“. Og en del bedre.\n",
      "Igen er det Dexter Fletcher, der instruerer, som han gjorde det med de afgørende scener i netop “Bohemian Rhapsody”.\n",
      "Igen handler det om en britisk musiker, der vokser op i et hjem med en gammelkonservativ far.\n",
      "Igen forsøger hovedpersonen at skjule sit virkelige jeg bag et nyt kunstnernavn; Farrokh Bulsara blev til Freddie Mercury – nu bliver Reggie Dwight til Elton John.\n",
      "Og igen forsøger ham i centrum at undertrykke sin homoseksualitet ved først at date en pige, inden han igen hemmeligt bliver kærester med sin mandlige manager, der igen er et røvhul, som tager ham for pengene, inden pop-eventyret, der starter på toppen, dykker til bunds i et misbrug af alkohol og stoffer.\n",
      "Igen, igen, igen. “Rocketman” ér “Bohemian Rhapsody”. Alligevel er den anderledes.\n",
      "For til forskel for Rami Maleks falske tænder, der mimede til Queen-kataloget af hitsange, så synger “Rocketman” i en helt anden og højere toneart.\n",
      "Det er en musikalsk film om et musikalsk menneske. Det er en musical.\n",
      "Derfor er det heller ikke en historisk gengivelse af Elton Johns liv som popstjerne, men derimod en fantasifuld digtning over hovedlinjerne i historien om Reggie fra rækkehuset, som blev til paillet-entertaineren Elton.\n",
      "Fokus er på musikken. Taron Egerton synger selv og så godt, så han også kunne skifte navn til Elton John.\n",
      "Og det lige fra den energiske “Saturday Night’s Alright” til den skrøbelige “Your Song”, som han selv komponerer hjemme hos mor.\n",
      "Men sangene ikke bare synges – de performes. Her er “Rocketman” helt i Elton Johns ånd.\n",
      "For “Rocketman” er et musikalsk show, hvor han fysisk svæver under sit amerikanske gennembrud på Troubadour i 1970’ernes Los Angeles, da han synger “Crocodile Rock”, inden han falder til bunden i en swimmingpool, imens han synger titelsangen – under vand!\n",
      "Netop rejsen fra de svævende højder til den dybe bund er det tydelige skema i Dexter Fletchers biopic-musical.\n",
      "Men den tydelige fortælling er godt stof til en musical, der sjældent underspiller, fordi det hele skal synges.\n",
      "Sådan er Elton Johns sange. Tydelige. “Candle in the Wind” ér rørende, imens “I’m Still Standing” konkret handlede om det store comeback efter nedturen.\n",
      "Det er derfor umuligt at være i tvivl om, hvad “Rocketman” vil og kan. Det er det samme igen, igen, igen.\n",
      "Alligevel er “Rocketman” en del bedre end “Bohemian Rhapsody”.\n"
     ]
    }
   ],
   "source": [
    "print(s.find('div.review-content',first=True).text)"
   ]
  },
  {
   "cell_type": "code",
   "execution_count": 24,
   "metadata": {},
   "outputs": [
    {
     "data": {
      "text/plain": [
       "[(100, '/film/rocketman#anmeldelse-rocketman'),\n",
       " (57, '/film/john-wick-3-parabellum#anmeldelse-john-wick-3-parabellum'),\n",
       " (55, '/film/de-frivillige#anmeldelse-de-frivillige'),\n",
       " (51, '/film/too-old-to-die-young#anmeldelse-too-old-to-die-young'),\n",
       " (65, '/film/brightburn#anmeldelse-brightburn'),\n",
       " (53,\n",
       "  '/film/men-in-black-international#anmeldelse-men-in-black-international'),\n",
       " (58, '/film/x-men-dark-phoenix#anmeldelse-x-men-dark-phoenix'),\n",
       " (58, '/film/black-mirror-saeson-5#anmeldelse-black-mirror-saeson-5'),\n",
       " (59, '/film/aladdin-2019#anmeldelse-aladdin-2'),\n",
       " (53, 'https://filmz.dk/anmeldelser'),\n",
       " (51, '/film/annabelle-comes-home#anmeldelse-annabelle-comes-home')]"
      ]
     },
     "execution_count": 24,
     "metadata": {},
     "output_type": "execute_result"
    }
   ],
   "source": [
    "get_url"
   ]
  },
  {
   "cell_type": "code",
   "execution_count": 25,
   "metadata": {},
   "outputs": [],
   "source": [
    "get_url_ = [f'{BASE_URL}{link}' for link in r.html.links\n",
    "            if (fuzz.ratio(check, link)>50 and 'http' not in link)]"
   ]
  },
  {
   "cell_type": "code",
   "execution_count": 26,
   "metadata": {},
   "outputs": [
    {
     "data": {
      "text/plain": [
       "['https://filmz.dk/film/rocketman#anmeldelse-rocketman',\n",
       " 'https://filmz.dk/film/john-wick-3-parabellum#anmeldelse-john-wick-3-parabellum',\n",
       " 'https://filmz.dk/film/de-frivillige#anmeldelse-de-frivillige',\n",
       " 'https://filmz.dk/film/too-old-to-die-young#anmeldelse-too-old-to-die-young',\n",
       " 'https://filmz.dk/film/brightburn#anmeldelse-brightburn',\n",
       " 'https://filmz.dk/film/men-in-black-international#anmeldelse-men-in-black-international',\n",
       " 'https://filmz.dk/film/x-men-dark-phoenix#anmeldelse-x-men-dark-phoenix',\n",
       " 'https://filmz.dk/film/black-mirror-saeson-5#anmeldelse-black-mirror-saeson-5',\n",
       " 'https://filmz.dk/film/aladdin-2019#anmeldelse-aladdin-2',\n",
       " 'https://filmz.dk/film/annabelle-comes-home#anmeldelse-annabelle-comes-home']"
      ]
     },
     "execution_count": 26,
     "metadata": {},
     "output_type": "execute_result"
    }
   ],
   "source": [
    "get_url_"
   ]
  },
  {
   "cell_type": "code",
   "execution_count": null,
   "metadata": {},
   "outputs": [],
   "source": []
  }
 ],
 "metadata": {
  "kernelspec": {
   "display_name": "Python 3",
   "language": "python",
   "name": "python3"
  },
  "language_info": {
   "codemirror_mode": {
    "name": "ipython",
    "version": 3
   },
   "file_extension": ".py",
   "mimetype": "text/x-python",
   "name": "python",
   "nbconvert_exporter": "python",
   "pygments_lexer": "ipython3",
   "version": "3.7.3"
  }
 },
 "nbformat": 4,
 "nbformat_minor": 2
}

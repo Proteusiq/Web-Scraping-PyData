{
 "cells": [
  {
   "cell_type": "markdown",
   "metadata": {},
   "source": [
    "## Evolution of Web Calls\n",
    "Using:\n",
    "* socket\n",
    "* urllib\n",
    "* requests \n",
    "* httpx\n",
    "\n",
    "> requests and httpx are third party libaries use `python -m pip install --user requests httpx` to install them"
   ]
  },
  {
   "cell_type": "code",
   "execution_count": 1,
   "metadata": {},
   "outputs": [],
   "source": [
    "def as_string(data:dict) -> None:\n",
    "    \"\"\"\n",
    "    Pretty Prints Dictionary  \n",
    "    \"\"\"\n",
    "    print(' \\n'.join(f'{key}: {value}' \n",
    "                 for key, value \n",
    "                 in data.items()), end='\\n'*3)"
   ]
  },
  {
   "cell_type": "code",
   "execution_count": 2,
   "metadata": {},
   "outputs": [
    {
     "name": "stdout",
     "output_type": "stream",
     "text": [
      "HTTP/1.1 200 OK\n",
      "Date: Fri, 04 Dec 2020 13:40:33 GMT\n",
      "Server: Apache/2.4.18 (Ubuntu)\n",
      "Last-Modified: Sat, 13 May 2017 11:22:22 GMT\n",
      "ETag: \"a7-54f6609245537\"\n",
      "Accept-Ranges: bytes\n",
      "Content-Length: 167\n",
      "Cache-Control: max-age=0, no-cache, no-store, must-revalidate\n",
      "Pragma: no-cache\n",
      "Expires: Wed, 11 Jan 1984 05:00:00 GMT\n",
      "Connection: close\n",
      "Content-Type: text/plain\n",
      "\n",
      "But soft what light through yonder window breaks\n",
      "It is the east and Juliet is the sun\n",
      "Arise fair sun and kill the envious moon\n",
      "Who is already sick and pale with grief\n",
      "\n"
     ]
    }
   ],
   "source": [
    "# Using pure sockets\n",
    "\n",
    "import socket\n",
    "\n",
    "URI = \"data.pr4e.org\"\n",
    "with socket.socket(socket.AF_INET, socket.SOCK_STREAM) as s:\n",
    "    s.connect((URI, 80))\n",
    "    cmd = f\"GET /romeo.txt HTTP/1.0\\r\\nHost: {URI}\\r\\n\\r\\n\".encode()\n",
    "    s.send(cmd)\n",
    "    \n",
    "    data = b''\n",
    "    while True:\n",
    "        response = s.recv(512)\n",
    "        if len(response) < 1:\n",
    "            break\n",
    "            \n",
    "        data += response\n",
    "\n",
    "print(data.decode())"
   ]
  },
  {
   "cell_type": "code",
   "execution_count": 3,
   "metadata": {},
   "outputs": [
    {
     "name": "stdout",
     "output_type": "stream",
     "text": [
      "Date: Fri, 04 Dec 2020 13:40:34 GMT\n",
      "Server: Apache/2.4.18 (Ubuntu)\n",
      "Last-Modified: Sat, 13 May 2017 11:22:22 GMT\n",
      "ETag: \"a7-54f6609245537\"\n",
      "Accept-Ranges: bytes\n",
      "Content-Length: 167\n",
      "Cache-Control: max-age=0, no-cache, no-store, must-revalidate\n",
      "Pragma: no-cache\n",
      "Expires: Wed, 11 Jan 1984 05:00:00 GMT\n",
      "Connection: close\n",
      "Content-Type: text/plain\n",
      "\n",
      "\n",
      "But soft what light through yonder window breaks\n",
      "It is the east and Juliet is the sun\n",
      "Arise fair sun and kill the envious moon\n",
      "Who is already sick and pale with grief\n",
      "\n"
     ]
    }
   ],
   "source": [
    "# Using  urllib\n",
    "from urllib import request\n",
    "\n",
    "URL = 'http://data.pr4e.org/romeo.txt'\n",
    "s = request.urlopen(URL)\n",
    "data = b''\n",
    "for line in s:\n",
    "    data+=line\n",
    "\n",
    "print(s.headers.as_string())\n",
    "print(data.decode())"
   ]
  },
  {
   "cell_type": "code",
   "execution_count": 4,
   "metadata": {},
   "outputs": [
    {
     "name": "stdout",
     "output_type": "stream",
     "text": [
      "Date: Fri, 04 Dec 2020 13:40:34 GMT \n",
      "Server: Apache/2.4.18 (Ubuntu) \n",
      "Last-Modified: Sat, 13 May 2017 11:22:22 GMT \n",
      "ETag: \"a7-54f6609245537\" \n",
      "Accept-Ranges: bytes \n",
      "Content-Length: 167 \n",
      "Cache-Control: max-age=0, no-cache, no-store, must-revalidate \n",
      "Pragma: no-cache \n",
      "Expires: Wed, 11 Jan 1984 05:00:00 GMT \n",
      "Keep-Alive: timeout=5, max=100 \n",
      "Connection: Keep-Alive \n",
      "Content-Type: text/plain\n",
      "\n",
      "\n",
      "But soft what light through yonder window breaks\n",
      "It is the east and Juliet is the sun\n",
      "Arise fair sun and kill the envious moon\n",
      "Who is already sick and pale with grief\n",
      "\n"
     ]
    }
   ],
   "source": [
    "# Using requests\n",
    "import requests\n",
    "\n",
    "data = requests.get(URL)\n",
    "\n",
    "as_string(data.headers)\n",
    "print(data.text)"
   ]
  },
  {
   "cell_type": "code",
   "execution_count": 5,
   "metadata": {},
   "outputs": [
    {
     "name": "stdout",
     "output_type": "stream",
     "text": [
      "date: Fri, 04 Dec 2020 13:40:35 GMT \n",
      "server: Apache/2.4.18 (Ubuntu) \n",
      "last-modified: Sat, 13 May 2017 11:22:22 GMT \n",
      "etag: \"a7-54f6609245537\" \n",
      "accept-ranges: bytes \n",
      "content-length: 167 \n",
      "cache-control: max-age=0, no-cache, no-store, must-revalidate \n",
      "pragma: no-cache \n",
      "expires: Wed, 11 Jan 1984 05:00:00 GMT \n",
      "keep-alive: timeout=5, max=100 \n",
      "connection: Keep-Alive \n",
      "content-type: text/plain\n",
      "\n",
      "\n",
      "But soft what light through yonder window breaks\n",
      "It is the east and Juliet is the sun\n",
      "Arise fair sun and kill the envious moon\n",
      "Who is already sick and pale with grief\n",
      "\n"
     ]
    }
   ],
   "source": [
    "import httpx\n",
    "\n",
    "data = httpx.get(URL)\n",
    "\n",
    "as_string(data.headers)\n",
    "print(data.text)"
   ]
  },
  {
   "cell_type": "code",
   "execution_count": 6,
   "metadata": {},
   "outputs": [],
   "source": [
    "# Bring async into the picture\n",
    "async with httpx.AsyncClient() as client:\n",
    "    data = await client.get(URL)"
   ]
  },
  {
   "cell_type": "code",
   "execution_count": 7,
   "metadata": {},
   "outputs": [
    {
     "name": "stdout",
     "output_type": "stream",
     "text": [
      "date: Fri, 04 Dec 2020 13:40:35 GMT \n",
      "server: Apache/2.4.18 (Ubuntu) \n",
      "last-modified: Sat, 13 May 2017 11:22:22 GMT \n",
      "etag: \"a7-54f6609245537\" \n",
      "accept-ranges: bytes \n",
      "content-length: 167 \n",
      "cache-control: max-age=0, no-cache, no-store, must-revalidate \n",
      "pragma: no-cache \n",
      "expires: Wed, 11 Jan 1984 05:00:00 GMT \n",
      "keep-alive: timeout=5, max=100 \n",
      "connection: Keep-Alive \n",
      "content-type: text/plain\n",
      "\n",
      "\n",
      "But soft what light through yonder window breaks\n",
      "It is the east and Juliet is the sun\n",
      "Arise fair sun and kill the envious moon\n",
      "Who is already sick and pale with grief\n",
      "\n"
     ]
    }
   ],
   "source": [
    "as_string(data.headers)\n",
    "print(data.text)"
   ]
  }
 ],
 "metadata": {
  "kernelspec": {
   "display_name": "ChildWatch",
   "language": "python",
   "name": "childwatch"
  },
  "language_info": {
   "codemirror_mode": {
    "name": "ipython",
    "version": 3
   },
   "file_extension": ".py",
   "mimetype": "text/x-python",
   "name": "python",
   "nbconvert_exporter": "python",
   "pygments_lexer": "ipython3",
   "version": "3.7.9"
  }
 },
 "nbformat": 4,
 "nbformat_minor": 4
}

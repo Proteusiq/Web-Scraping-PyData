{
 "cells": [
  {
   "cell_type": "raw",
   "id": "1781b58c-2c23-4f52-88c8-66cc6583926f",
   "metadata": {
    "jupyter": {
     "outputs_hidden": true
    },
    "tags": []
   },
   "source": [
    "import sys\n",
    "!{sys.executable} -m pip install beautifulsoup4 lxml"
   ]
  },
  {
   "cell_type": "code",
   "execution_count": 2,
   "id": "aed7e045-055e-4c89-9fe6-f226e089ae55",
   "metadata": {},
   "outputs": [],
   "source": [
    "from collections import defaultdict\n",
    "import httpx, re\n",
    "from bs4 import BeautifulSoup\n",
    "import pandas as pd"
   ]
  },
  {
   "cell_type": "code",
   "execution_count": 6,
   "id": "44ad3119-c5bf-48c6-ba4c-0d64537989c9",
   "metadata": {},
   "outputs": [],
   "source": [
    "r = httpx.get(\"https://dansketaler.dk/page/3?s=&s_talekategori[]=251&sort_by=date_desc&posts_per_page=hundred\")"
   ]
  },
  {
   "cell_type": "code",
   "execution_count": 7,
   "id": "1eb7978b-f673-43ac-8095-6a228d7b0ac7",
   "metadata": {},
   "outputs": [],
   "source": [
    "soup = BeautifulSoup(r.text, \"lxml\")"
   ]
  },
  {
   "cell_type": "code",
   "execution_count": 8,
   "id": "6fabfd67-e5bc-4afd-a220-2061d37c4978",
   "metadata": {},
   "outputs": [],
   "source": [
    "speeches = soup.find(\"h1\").parent.find_all(\"speech-regular-list-item\")"
   ]
  },
  {
   "cell_type": "code",
   "execution_count": 9,
   "id": "39dd3893-44cd-4f07-b161-adb231d313a6",
   "metadata": {},
   "outputs": [
    {
     "data": {
      "text/plain": [
       "9"
      ]
     },
     "execution_count": 9,
     "metadata": {},
     "output_type": "execute_result"
    }
   ],
   "source": [
    "len(speeches)"
   ]
  },
  {
   "cell_type": "code",
   "execution_count": 10,
   "id": "8639031a-de73-48be-ad5d-2bdfcd20983c",
   "metadata": {},
   "outputs": [],
   "source": [
    "def get_text(url:str) -> str:\n",
    "    headers = {'User-Agent': ('Mozilla/5.0 (Macintosh; Intel Mac OS X 10_10_1) '\n",
    "                  'AppleWebKit/537.36 (KHTML, like Gecko) '\n",
    "                  'Chrome/39.0.2171.95 Safari/537.36'),\n",
    "            'Content-Type': 'application/json'}\n",
    "\n",
    "    r = httpx.get(f\"{url}print\",  headers=headers)\n",
    "    tale = BeautifulSoup(r.content, \"lxml\")\n",
    "    return (tale\n",
    "                .find(\"div\",{\"class\":\"entry-content\"})\n",
    "                .get_text()\n",
    "    )"
   ]
  },
  {
   "cell_type": "code",
   "execution_count": 11,
   "id": "ef1ae1d8-8386-4768-af3e-5c2aaeeba211",
   "metadata": {},
   "outputs": [
    {
     "name": "stdout",
     "output_type": "stream",
     "text": [
      "CPU times: user 724 ms, sys: 9.39 ms, total: 734 ms\n",
      "Wall time: 2.31 s\n"
     ]
    }
   ],
   "source": [
    "%%time\n",
    "speeches_data = defaultdict(list)\n",
    "\n",
    "for speech in speeches:\n",
    "    speeches_data['taler_title'].append(speech.get(\"taler_title\"))\n",
    "    speeches_data[\"tale_date\"].append(speech.get(\"tale_date\"))\n",
    "    speeches_data[\"tale_title\"].append(speech.get(\"tale_title\"))\n",
    "    speeches_data['taler_permalink'].append(speech.get(\"taler_permalink\"))\n",
    "    speeches_data['taler_thumbnail'].append(speech.get(\"taler_thumbnail\"))\n",
    "    speeches_data['tale_permalink'].append(speech.get(\"tale_permalink\"))\n",
    "    speeches_data['tale_excerpt'].append(speech.get(\"tale_excerpt\"))\n",
    "    speeches_data['tale_text'].append(get_text(url=speech.get(\"tale_permalink\")))"
   ]
  },
  {
   "cell_type": "code",
   "execution_count": 12,
   "id": "1960c426-d84a-48d5-b432-d6b22498a316",
   "metadata": {},
   "outputs": [],
   "source": [
    "speeches_df = pd.DataFrame(speeches_data)"
   ]
  },
  {
   "cell_type": "code",
   "execution_count": 13,
   "id": "bd5d5180-a520-45ca-82ba-58838cc849de",
   "metadata": {
    "tags": []
   },
   "outputs": [
    {
     "data": {
      "text/html": [
       "<div>\n",
       "<style scoped>\n",
       "    .dataframe tbody tr th:only-of-type {\n",
       "        vertical-align: middle;\n",
       "    }\n",
       "\n",
       "    .dataframe tbody tr th {\n",
       "        vertical-align: top;\n",
       "    }\n",
       "\n",
       "    .dataframe thead th {\n",
       "        text-align: right;\n",
       "    }\n",
       "</style>\n",
       "<table border=\"1\" class=\"dataframe\">\n",
       "  <thead>\n",
       "    <tr style=\"text-align: right;\">\n",
       "      <th></th>\n",
       "      <th>taler_title</th>\n",
       "      <th>tale_date</th>\n",
       "      <th>tale_title</th>\n",
       "      <th>taler_permalink</th>\n",
       "      <th>taler_thumbnail</th>\n",
       "      <th>tale_permalink</th>\n",
       "      <th>tale_excerpt</th>\n",
       "      <th>tale_text</th>\n",
       "    </tr>\n",
       "  </thead>\n",
       "  <tbody>\n",
       "    <tr>\n",
       "      <th>0</th>\n",
       "      <td>Grundtvig, N.F.S.</td>\n",
       "      <td>18/10/1850</td>\n",
       "      <td>N.F.S. Grundtvigs tale i Folketinget om trosfr...</td>\n",
       "      <td>https://dansketaler.dk/taler/grundtvig-nicolai...</td>\n",
       "      <td>https://dansketaler.dk/wp-content/uploads/2016...</td>\n",
       "      <td>https://dansketaler.dk/tale/grundtvigs-tale-i-...</td>\n",
       "      <td>Den høitærede Minister for Kirke- og Skolevæse...</td>\n",
       "      <td>\\nDen høitærede Minister for Kirke- og Skolevæ...</td>\n",
       "    </tr>\n",
       "    <tr>\n",
       "      <th>1</th>\n",
       "      <td>Grundtvig, N.F.S.</td>\n",
       "      <td>27/06/1850</td>\n",
       "      <td>N.F.S. Grundtvigs tale i Folketinget om revsel...</td>\n",
       "      <td>https://dansketaler.dk/taler/grundtvig-nicolai...</td>\n",
       "      <td>https://dansketaler.dk/wp-content/uploads/2016...</td>\n",
       "      <td>https://dansketaler.dk/tale/grundtvigs-tale-i-...</td>\n",
       "      <td>Selv Damerne have vist ikke godt af Gallopvalt...</td>\n",
       "      <td>\\nSelv Damerne have vist ikke godt af Gallopva...</td>\n",
       "    </tr>\n",
       "    <tr>\n",
       "      <th>2</th>\n",
       "      <td>Grundtvig, N.F.S.</td>\n",
       "      <td>04/06/1850</td>\n",
       "      <td>N.F.S. Grundtvigs tale i Folketinget om fattig...</td>\n",
       "      <td>https://dansketaler.dk/taler/grundtvig-nicolai...</td>\n",
       "      <td>https://dansketaler.dk/wp-content/uploads/2016...</td>\n",
       "      <td>https://dansketaler.dk/tale/grundtvigs-tale-i-...</td>\n",
       "      <td>Allerede ved den foreløbige Behandling tog jeg...</td>\n",
       "      <td>\\nAllerede ved den foreløbige Behandling tog j...</td>\n",
       "    </tr>\n",
       "    <tr>\n",
       "      <th>3</th>\n",
       "      <td>Grundtvig, N.F.S.</td>\n",
       "      <td>24/05/1850</td>\n",
       "      <td>N.F.S. Grundtvigs tale i Folketinget om Pensio...</td>\n",
       "      <td>https://dansketaler.dk/taler/grundtvig-nicolai...</td>\n",
       "      <td>https://dansketaler.dk/wp-content/uploads/2016...</td>\n",
       "      <td>https://dansketaler.dk/tale/grundtvigs-tale-i-...</td>\n",
       "      <td>Ja, jeg har før, blandt de faa lyder, som jeg ...</td>\n",
       "      <td>\\nJa, jeg har før, blandt de faa lyder, som je...</td>\n",
       "    </tr>\n",
       "    <tr>\n",
       "      <th>4</th>\n",
       "      <td>Grundtvig, N.F.S.</td>\n",
       "      <td>02/03/1850</td>\n",
       "      <td>N.F.S. Grundtvigs tale i Folketinget om statsl...</td>\n",
       "      <td>https://dansketaler.dk/taler/grundtvig-nicolai...</td>\n",
       "      <td>https://dansketaler.dk/wp-content/uploads/2016...</td>\n",
       "      <td>https://dansketaler.dk/tale/grundtvigs-tale-i-...</td>\n",
       "      <td>Hvad den ærede Taler har sagt, at Danmark ikke...</td>\n",
       "      <td>\\nHvad den ærede Taler har sagt, at Danmark ik...</td>\n",
       "    </tr>\n",
       "    <tr>\n",
       "      <th>5</th>\n",
       "      <td>Grundtvig, N.F.S.</td>\n",
       "      <td>22/02/1850</td>\n",
       "      <td>N.F.S. Grundtvigs tale i Folketinget om jøders...</td>\n",
       "      <td>https://dansketaler.dk/taler/grundtvig-nicolai...</td>\n",
       "      <td>https://dansketaler.dk/wp-content/uploads/2016...</td>\n",
       "      <td>https://dansketaler.dk/tale/grundtvigs-tale-i-...</td>\n",
       "      <td>Saavidt som jeg forstod den høitærede Cultusmi...</td>\n",
       "      <td>\\nSaavidt som jeg forstod den høitærede Cultus...</td>\n",
       "    </tr>\n",
       "    <tr>\n",
       "      <th>6</th>\n",
       "      <td>Grundtvig, N.F.S.</td>\n",
       "      <td>21/02/1850</td>\n",
       "      <td>N.F.S. Grundtvigs tale i Folketinget om skat 1850</td>\n",
       "      <td>https://dansketaler.dk/taler/grundtvig-nicolai...</td>\n",
       "      <td>https://dansketaler.dk/wp-content/uploads/2016...</td>\n",
       "      <td>https://dansketaler.dk/tale/grundtvigs-tale-i-...</td>\n",
       "      <td>Allerede da forleden Dag den ærede 9de kjøbenh...</td>\n",
       "      <td>\\nAllerede da forleden Dag den ærede 9de kjøbe...</td>\n",
       "    </tr>\n",
       "    <tr>\n",
       "      <th>7</th>\n",
       "      <td>Grundtvig, N.F.S.</td>\n",
       "      <td>15/02/1850</td>\n",
       "      <td>N.F.S. Grundtvigs tale i Folketinget om fremme...</td>\n",
       "      <td>https://dansketaler.dk/taler/grundtvig-nicolai...</td>\n",
       "      <td>https://dansketaler.dk/wp-content/uploads/2016...</td>\n",
       "      <td>https://dansketaler.dk/tale/grundtvigs-tale-i-...</td>\n",
       "      <td>Det vil med Nødvendighed følge af sig selv, at...</td>\n",
       "      <td>\\nDet vil med Nødvendighed følge af sig selv, ...</td>\n",
       "    </tr>\n",
       "    <tr>\n",
       "      <th>8</th>\n",
       "      <td>Grundtvig, N.F.S.</td>\n",
       "      <td>09/12/1848</td>\n",
       "      <td>Grundtvigs forespørgsel til kulturminister Mad...</td>\n",
       "      <td>https://dansketaler.dk/taler/grundtvig-nicolai...</td>\n",
       "      <td>https://dansketaler.dk/wp-content/uploads/2016...</td>\n",
       "      <td>https://dansketaler.dk/tale/forespoergsel-til-...</td>\n",
       "      <td>Det er i mine Øjne en herlig Ret, Majestæten h...</td>\n",
       "      <td>\\nDet er i mine Øjne en herlig Ret, Majestæten...</td>\n",
       "    </tr>\n",
       "  </tbody>\n",
       "</table>\n",
       "</div>"
      ],
      "text/plain": [
       "         taler_title   tale_date  \\\n",
       "0  Grundtvig, N.F.S.  18/10/1850   \n",
       "1  Grundtvig, N.F.S.  27/06/1850   \n",
       "2  Grundtvig, N.F.S.  04/06/1850   \n",
       "3  Grundtvig, N.F.S.  24/05/1850   \n",
       "4  Grundtvig, N.F.S.  02/03/1850   \n",
       "5  Grundtvig, N.F.S.  22/02/1850   \n",
       "6  Grundtvig, N.F.S.  21/02/1850   \n",
       "7  Grundtvig, N.F.S.  15/02/1850   \n",
       "8  Grundtvig, N.F.S.  09/12/1848   \n",
       "\n",
       "                                          tale_title  \\\n",
       "0  N.F.S. Grundtvigs tale i Folketinget om trosfr...   \n",
       "1  N.F.S. Grundtvigs tale i Folketinget om revsel...   \n",
       "2  N.F.S. Grundtvigs tale i Folketinget om fattig...   \n",
       "3  N.F.S. Grundtvigs tale i Folketinget om Pensio...   \n",
       "4  N.F.S. Grundtvigs tale i Folketinget om statsl...   \n",
       "5  N.F.S. Grundtvigs tale i Folketinget om jøders...   \n",
       "6  N.F.S. Grundtvigs tale i Folketinget om skat 1850   \n",
       "7  N.F.S. Grundtvigs tale i Folketinget om fremme...   \n",
       "8  Grundtvigs forespørgsel til kulturminister Mad...   \n",
       "\n",
       "                                     taler_permalink  \\\n",
       "0  https://dansketaler.dk/taler/grundtvig-nicolai...   \n",
       "1  https://dansketaler.dk/taler/grundtvig-nicolai...   \n",
       "2  https://dansketaler.dk/taler/grundtvig-nicolai...   \n",
       "3  https://dansketaler.dk/taler/grundtvig-nicolai...   \n",
       "4  https://dansketaler.dk/taler/grundtvig-nicolai...   \n",
       "5  https://dansketaler.dk/taler/grundtvig-nicolai...   \n",
       "6  https://dansketaler.dk/taler/grundtvig-nicolai...   \n",
       "7  https://dansketaler.dk/taler/grundtvig-nicolai...   \n",
       "8  https://dansketaler.dk/taler/grundtvig-nicolai...   \n",
       "\n",
       "                                     taler_thumbnail  \\\n",
       "0  https://dansketaler.dk/wp-content/uploads/2016...   \n",
       "1  https://dansketaler.dk/wp-content/uploads/2016...   \n",
       "2  https://dansketaler.dk/wp-content/uploads/2016...   \n",
       "3  https://dansketaler.dk/wp-content/uploads/2016...   \n",
       "4  https://dansketaler.dk/wp-content/uploads/2016...   \n",
       "5  https://dansketaler.dk/wp-content/uploads/2016...   \n",
       "6  https://dansketaler.dk/wp-content/uploads/2016...   \n",
       "7  https://dansketaler.dk/wp-content/uploads/2016...   \n",
       "8  https://dansketaler.dk/wp-content/uploads/2016...   \n",
       "\n",
       "                                      tale_permalink  \\\n",
       "0  https://dansketaler.dk/tale/grundtvigs-tale-i-...   \n",
       "1  https://dansketaler.dk/tale/grundtvigs-tale-i-...   \n",
       "2  https://dansketaler.dk/tale/grundtvigs-tale-i-...   \n",
       "3  https://dansketaler.dk/tale/grundtvigs-tale-i-...   \n",
       "4  https://dansketaler.dk/tale/grundtvigs-tale-i-...   \n",
       "5  https://dansketaler.dk/tale/grundtvigs-tale-i-...   \n",
       "6  https://dansketaler.dk/tale/grundtvigs-tale-i-...   \n",
       "7  https://dansketaler.dk/tale/grundtvigs-tale-i-...   \n",
       "8  https://dansketaler.dk/tale/forespoergsel-til-...   \n",
       "\n",
       "                                        tale_excerpt  \\\n",
       "0  Den høitærede Minister for Kirke- og Skolevæse...   \n",
       "1  Selv Damerne have vist ikke godt af Gallopvalt...   \n",
       "2  Allerede ved den foreløbige Behandling tog jeg...   \n",
       "3  Ja, jeg har før, blandt de faa lyder, som jeg ...   \n",
       "4  Hvad den ærede Taler har sagt, at Danmark ikke...   \n",
       "5  Saavidt som jeg forstod den høitærede Cultusmi...   \n",
       "6  Allerede da forleden Dag den ærede 9de kjøbenh...   \n",
       "7  Det vil med Nødvendighed følge af sig selv, at...   \n",
       "8  Det er i mine Øjne en herlig Ret, Majestæten h...   \n",
       "\n",
       "                                           tale_text  \n",
       "0  \\nDen høitærede Minister for Kirke- og Skolevæ...  \n",
       "1  \\nSelv Damerne have vist ikke godt af Gallopva...  \n",
       "2  \\nAllerede ved den foreløbige Behandling tog j...  \n",
       "3  \\nJa, jeg har før, blandt de faa lyder, som je...  \n",
       "4  \\nHvad den ærede Taler har sagt, at Danmark ik...  \n",
       "5  \\nSaavidt som jeg forstod den høitærede Cultus...  \n",
       "6  \\nAllerede da forleden Dag den ærede 9de kjøbe...  \n",
       "7  \\nDet vil med Nødvendighed følge af sig selv, ...  \n",
       "8  \\nDet er i mine Øjne en herlig Ret, Majestæten...  "
      ]
     },
     "execution_count": 13,
     "metadata": {},
     "output_type": "execute_result"
    }
   ],
   "source": [
    "speeches_df"
   ]
  },
  {
   "cell_type": "code",
   "execution_count": 14,
   "id": "24b40b35-9b82-4af8-86cf-830b5b5dd6b5",
   "metadata": {},
   "outputs": [],
   "source": [
    "r = httpx.get(\"https://dansketaler.dk/taler/frederiksen-mette/\")\n",
    "soup = BeautifulSoup(r.content, \"lxml\")"
   ]
  },
  {
   "cell_type": "code",
   "execution_count": 15,
   "id": "f55b31a3-7e5c-4674-bd5e-70ef28d2fd2a",
   "metadata": {},
   "outputs": [],
   "source": [
    "url_bank = (url.get(\"href\") for url in soup.find(\"div\", {\"class\":\"single-taler__speeches\"}).find_all(\"a\"))"
   ]
  },
  {
   "cell_type": "code",
   "execution_count": 16,
   "id": "9c0319b4-6f06-4c59-8a2a-0f83247e72d6",
   "metadata": {},
   "outputs": [],
   "source": [
    "url = next(url_bank)"
   ]
  },
  {
   "cell_type": "code",
   "execution_count": 17,
   "id": "b63527a9-c604-4e84-b19b-9323a40a1c54",
   "metadata": {},
   "outputs": [
    {
     "data": {
      "text/plain": [
       "'https://dansketaler.dk/tale/mette-frederiksens-tale-ved-folketingets-aabningsdebat-2022/'"
      ]
     },
     "execution_count": 17,
     "metadata": {},
     "output_type": "execute_result"
    }
   ],
   "source": [
    "url"
   ]
  },
  {
   "cell_type": "code",
   "execution_count": 19,
   "id": "92607ad7-a8ce-4e38-ac66-a2033ea79527",
   "metadata": {},
   "outputs": [],
   "source": [
    "r = httpx.get(\"https://dansketaler.dk/tale/mette-frederiksens-valgudskrivelse-2022/\")\n",
    "soup = BeautifulSoup(r.content, \"lxml\")"
   ]
  },
  {
   "cell_type": "code",
   "execution_count": 21,
   "id": "894fa28f-032c-42a5-b61d-206654c029fa",
   "metadata": {},
   "outputs": [
    {
     "data": {
      "text/plain": [
       "'Mette Frederiksen'"
      ]
     },
     "execution_count": 21,
     "metadata": {},
     "output_type": "execute_result"
    }
   ],
   "source": [
    "soup.select(\".single-tale__single-info\")[0].a.get(\"title\").strip()"
   ]
  },
  {
   "cell_type": "code",
   "execution_count": 22,
   "id": "f93bb596-514d-469e-9fb7-4c6987c0f8a4",
   "metadata": {},
   "outputs": [
    {
     "data": {
      "text/plain": [
       "'Marienborg'"
      ]
     },
     "execution_count": 22,
     "metadata": {},
     "output_type": "execute_result"
    }
   ],
   "source": [
    "soup.select(\".single-tale__single-info\")[2].select(\"p:not(.ztag)\")[0].next_element.strip()"
   ]
  },
  {
   "cell_type": "code",
   "execution_count": 23,
   "id": "6d29a2aa-a709-4cf2-9e60-fb2fd2b7ccf6",
   "metadata": {},
   "outputs": [
    {
     "data": {
      "text/plain": [
       "'Mette Frederiksens valgudskrivelse 2022'"
      ]
     },
     "execution_count": 23,
     "metadata": {},
     "output_type": "execute_result"
    }
   ],
   "source": [
    "soup.find(\"h1\").get_text()"
   ]
  },
  {
   "cell_type": "code",
   "execution_count": 24,
   "id": "b5826d22-fca2-4f45-be40-456c767aecdd",
   "metadata": {},
   "outputs": [
    {
     "data": {
      "text/plain": [
       "'05/10/2022'"
      ]
     },
     "execution_count": 24,
     "metadata": {},
     "output_type": "execute_result"
    }
   ],
   "source": [
    "soup.select(\".single-tale__single-info\")[3].select(\"p:not(.ztag)\")[0].next_element.strip()"
   ]
  },
  {
   "cell_type": "code",
   "execution_count": 25,
   "id": "38529ebe-60d6-4437-8ea6-df650265ca73",
   "metadata": {},
   "outputs": [
    {
     "data": {
      "text/plain": [
       "'\\nLænge før valget blev udskrevet, blev denne valgkamp, vi nu er i gang med, spået til at blive den grimmeste og mest dramatiske i mands minde. Ordene har lydt: polarisering, personangreb, større og større splittelse. Jeg synes, debatten i dag har været anderledes. Det har været en god debat, hård til tider, rimelig – for det meste – men uretfærdig har den ikke været på noget tidspunkt. Den har handlet om politik og om løsninger.\\nJeg har lyttet mig til, at alle mener, at regeringen ikke har gjort nok. Det mener regeringen sådan set også. Det er jo derfor, at vi søger genvalg. Fagligheden på tværs har været høj. Der har været mange nye perspektiver på tingene. Jeg anede f.eks. ikke, at både fru Mai Villadsen og hr. Thomas Danielsen vidste så meget om parforholdskonstruktioner. En forlovelse er blevet proklameret – stort tillykke til hr. Torsten Gejl. Tonen har været direkte og kontant, sådan må det være, og sådan er det. Og udefra, hvis man bare lige kigger ind her i vores smukke sal, kan det jo nogle gange komme til at se ud, som om vi ikke helt kan med hinanden. Men selvfølgelig kan vi det. Når det kommer til stykket, er vi først og fremmest gode kolleger. Der er tillid og respekt, også mellem politikere, der er uenige om meget. Vi\\xa0er\\xa0politiske modstandere, især når der er valgkamp, men vi er først og fremmest kolleger.\\nDer findes ikke et blåt Folketing og et rødt Folketing; der findes heldigvis kun ét Folketing. Der er ingen aftaler uden et flertal; vi er forskellige partier med forskellige svar. Hr. Søren Pape Poulsen sagde tidligere i dag, at der er to veje for Danmark, og det er jo rigtigt, men hvorfor prøver vi ikke at finde en vej sammen? Selvfølgelig trækker vi i hver vores retning, men man kan jo også komme til at trække så hårdt i én retning, at man risikerer at slå noget i stykker.\\nMere end i mange år er der brug for sammenhold. Truslerne udefra er nu større og mere alvorlige end de største uenigheder, der er herinde i salen. Og derfor er folketingsvalget i år 2022 et tryghedsvalg: tryghed for den enkelte, for familierne, for jeres økonomi og hverdag og tryghed for Danmark og for Europa. For vi står i en alvorlig sikkerhedssituation. Der er en energikrise og sorte skyer over økonomien.\\nFor kun en uge siden blev tre gasledninger sprængt i stykker i internationalt farvand, men lige uden for Bornholm og Christiansø. Det kom helt tæt på. Jeg tror, de fleste har set billederne af havet, sydende og boblende. Samtidig med det følger vi med gru krigen i Ukraine, en krig, der er umenneskelig og utilgivelig. Jeg havde selv lejlighed til at besøge vores venner i Ukraine tidligere på året i Kyiv. Jeg så de sønderbombede byområder, jeg så de sønderbombede skoler og boligblokke. Alle har set billederne fra hospitaler og meget andet. For bare et år siden levede folk i Ukraine et helt almindeligt liv, som vi gør. De fulgte deres børn i skole om morgenen, interesserede sig for fodbold, gik på arbejde, gik ud og spiste om aftenen – Kyiv er en fantastisk by – mødtes med deres venner, fejrede fødselsdage. Nu ligger deres huse i ruiner. Familierne er blevet revet fra hinanden.\\nTak til alle dem, der har støttet Ukraine og det ukrainske folk, både her og i den danske befolkning. I morgen tager jeg til Prag til møde i Det Europæiske Råd. Vi skal igen diskutere problemerne med inflation i Europa, og så skal vi genbekræfte, at Europa bliver ved med at stå ved Ukraines side, nøjagtig som vi har besluttet det her i Folketinget.\\nVi tager ansvar i Danmark, når det er svært, og det\\xa0er\\xa0svært lige nu. Det er svært for Europa, og det er svært for Danmark. Alle kan mærke inflationen, selv oppositionen, hvor der nu også er gået inflation i antallet af statsministerkandidater. Jeg vil gerne have lov til at kvittere for, at inflation har fyldt så meget i debatten, som den har. Jeg vil også gerne have lov til at kvittere for, at ansvarligheden i den diskussion er så høj.\\nJeg har lyttet mig til, at flere kollegaer har udtrykt bekymring for, hvordan det vil gå med en valgkamp og inflation. Vil man så risikere, at alle byder over hinanden, og at vi pludselig står med et resultat, der i virkeligheden kan betyde, at vi forlænger og forværrer situationen? Men når man lytter til debatten i dag, er det faktisk ikke det, Folketinget er i gang med. Det er ikke det, partierne bringer til bordet.\\nAlt, hvad jeg har lyttet mig til i dag, går jo på, at vi skal gøre, hvad vi kan, uden at forlænge og forværre krisen. De fleste er også ærlige og oprigtige og siger: Vi kan ikke holde alle skadefri. Men de fleste er også enige om, at vi skal gøre, hvad vi kan, for at hjælpe så godt som overhovedet muligt. Og vi ved godt, også fra regeringens side, at det, der er på bordet nu, jo ikke løser alle problemer, for man kan netop ikke holde alle skadefri.\\nIkke desto mindre er der truffet beslutning om en varmecheck, en ældrecheck, et loft over huslejestigninger og mulighed for indefrysning af de stigende energiregninger. Elafgiften er kommet i bund, og der er en ekstra håndsrækning til børnefamilierne. Det er alt sammen godt, men det er givet ikke tilstrækkeligt. Og noget af det, vi gerne vil gå i gang med efter et valg, hvis danskerne betror os ansvaret igen, er noget, som andre også har nævnt i debatten i dag, nemlig at beskatte de ekstraordinære profitter, som nogle selskaber får på grund af krigen. De penge bør, krone for krone, føres tilbage til danskerne.\\nVi skal hjælpe hinanden igennem den her krise, og vi skal gøre os fri af den afhængighed, Europa oplever i dag. Det kræver, at vi fortsætter en ambitiøs grøn omstilling af vores samfund. Og til klimadebatten i dag har jeg lyttet særlig godt efter. Det står klart efter i dag, at et blåt flertal ikke er et grønt flertal. Der er et bredt flertal i dag bag klimaloven. Der er også borgerlige partier, som er med. Ofte siger man det rigtige, når man diskuterer mål og principper, der ligger langt ude i fremtiden. Men så snart det begynder at blive konkret og dermed også svært, er det altså, som om noget af overfladen krakelerer.\\nVille Danmark have en klimalov i dag, hvis den nuværende opposition tilbage i 2015 havde fået flertal? Jeg tvivler. I dag har de borgerlige partier i debatten mest af alt konkurreret om at frede dansk landbrug mest muligt. Og ja, dansk landbrug er der meget godt at sige om. Vi producerer fødevarer i Danmark på en mere miljø- og klimavenlig måde, end man gør i mange andre lande. Det skyldes jo bl.a., at vi har innovative, dygtige landmænd, som selvfølgelig tager et ansvar for den verden, de er en del af. Men det skyldes jo også, at vi som samfund stiller krav, og at vi forventer, at alle sektorer bidrager til den grønne omstilling.\\nDerfor burde det ikke være så svært at svare på det spørgsmål, som er stillet ad nogle omgange, nemlig: Skal der indføres en CO2-afgift for dansk landbrug, nøjagtig som industrien nu har oplevet det? Vi mener, at det er nødvendigt, for ellers bliver vores klimamål ikke effektivt. En grøn fremtid – det synes jeg står klart efter dagens debat – kræver et rødt flertal. At bremse op nu, hvor Danmark endelig igen går forrest, vil altså være en fejl. Og fejl er der også blevet spurgt rigtig meget til i dag.\\nVi står på ubetrådt land. Vi står i en situation, som ikke ligner noget, vi har prøvet før. Kommer vi til at begå fejl? Ja. Kommer jeg til at begå fejl? Ja.\\nSådan sagde jeg den 11. marts 2020. Da pandemien ramte os og vi traf beslutningen om den delvise nedlukning af Danmark, traf vi en beslutning hurtigt og resolut. Det er en beslutning, som har været medvirkende til at redde menneskeliv. Det er en beslutning, som har været med til at sikre, at Danmark kom godt igennem pandemien både menneskeligt og økonomisk. Og det var i øvrigt også en beslutning, der efterfølgende fik bred opbakning fra alle folketingspartier. Da den krise ramte vores samfund, valgte vi her i Folketinget at stå sammen.\\nJeg har ikke det præcise tal. Min vurdering er, at jeg selv har været med til at afholde mere end 25 pressemøder om corona. Hvis man spørger journalisterne, har det ikke ligefrem været korte pressemøder.\\nEr der begået fejl undervejs? Ja. Og jeg skulle næsten til at tilføje: Selvfølgelig er der begået fejl, når man håndterer så svær en krise.\\nDet var f.eks. en fejl, da jeg sagde, at hverdagen ikke ville blive den samme igen, for det blev den heldigvis. Den er blevet den samme. Vi krammer, vi giver hånd, vi sidder tæt, vi går til koncerter, vi synger sammen, vi gør alt det, mennesker har lyst til at gøre med hinanden, uden forbehold, uden afstand, uden værnemidler. Så det var en fejl, da jeg på et pressemøde siger: Jeg tror ikke, at hverdagen kommer tilbage. Den kom tilbage – heldigvis. Jeg havde ikke ret i den forudsigelse, og hvor er jeg dog i øvrigt utrolig glad for det.\\nDet var også en fejl, at vi ikke fandt nogle bedre muligheder undervejs for, at mennesker kunne tage afsked med hinanden på hospitaler, hospicer og plejehjem. For der har været beretninger, som har gjort et kæmpe indtryk, og det piner mig. Men på det tidspunkt, vi stod i det, var vi så bekymrede for smittespredning, at vi ikke kunne se, hvordan vi kunne gøre det anderledes.\\nDet var også en fejl, da jeg på et andet pressemøde sagde: »Lev med det.« Det blev sagt i en kontekst om, at nogle gange, når man krisehåndterer, kommunikerer man måske lidt mere direkte og lidt mere uden filter, end man bør gøre i alle mulige andre sammenhænge, hvor presset ikke er lige så stort. Og det var faktisk tænkt som et forsøg på at forsvare nogle mennesker, som stod midt i krisehåndteringen, og som ikke kan forsvare sig selv i offentligheden. Men det kom jo til at lyde for hårdt. Det kom til at lyde, som om jeg som statsminister bare sagde: »Lev med det.« Det var ikke det, der var min intention. Så var det en fejl at sige sådan på et pressemøde? Ja, det var det jo.\\nSå ja, vi har begået fejl, og jeg har begået fejl. Men jeg er nødt til at sige, at det ikke var en fejl at slå minkene ned i Danmark. Jeg kunne godt holde en lang tale her – og det har jeg også lyst til at gøre – om den risikovurdering, vi modtog, om, hvor bange vi var for nordjydernes helbred, om dødsfaldene på plejehjemmene, om den risiko, der var for, at vaccinen måske ikke kom til at virke. Det var bekymringen for en hel verden, som ville reagere negativt over for dansk eksport. Men jeg skal nok lade være at holde den tale. Og jeg kommer heller ikke til i aften at dvæle ved, hvorfor vi gjorde, som vi gjorde, for det\\xa0har\\xa0vi sagt i mange andre sammenhænge.\\nMen lad mig så her i aften prøve at sige noget andet, nemlig om de overvejelser, vi efterfølgende har haft, de overvejelser, jeg efterfølgende har haft. For selvfølgelig skal man lære af sådan en situation og gøre alt, hvad vi kan, for at en regering ikke ender i den samme situation. Og jeg\\xa0er\\xa0oprigtig ked af den usikkerhed og den frustration og den sorg, som mange minkavlere har oplevet. Og jeg kan godt være ked af det på nogle menneskers vegne, selv om jeg står ved en beslutning. For det var den rigtige beslutning. Men det var også en hård tid for de berørte familier. Derfor har jeg givet minkavlerne en undskyldning, og jeg gør det gerne igen.\\nDer er også noget andet, der ærgrer mig i den nu efterhånden meget lange diskussion om mink: at det ikke lykkedes os her i Folketinget at holde fast i en bred politisk opbakning til den her del af coronahåndteringen. For det efterfølgende forløb har vist os, hvad det er, splittelse og polarisering medfører, hvis ikke vi står sammen. Hvis vi skal bygge en bro over splittelse – og det skal vi altid forsøge – skal vi selvfølgelig tage ved lære af det forløb, der har været.\\nFra regeringens side har vi forsøgt at række hånden frem og foreslået nogle forskellige ting: en rådføringspligt, hvor den til enhver tid siddende regering i lignende krisesituationer er forpligtet til at rådføre sig med Folketinget under mere formelle rammer; et demokratiudvalg, der skal forholde sig til den måde, regeringsarbejdet er indrettet og organiseret på; en opstramning af procedurer; og ikke mindst en revision af offentlighedsloven med mere åbenhed.\\nDen fejl, der blev begået i minksagen, altså at det ikke blev kommunikeret klart, at der ikke var hjemmel, fordi regeringen ikke vidste det og ikke blev advaret, er en fejl, som regeringen selv har gjort Folketinget opmærksom på. Det er ikke så tit, den detalje bliver nævnt. Jeg nævner den i dag, fordi det er en vigtig detalje – også at fejlen har fået konsekvenser. En minister er gået af, et ministerium er blevet delt op, der blev udarbejdet en redegørelse, og regeringen støttede straks, at der efterfølgende blev nedsat en kommission til at afdække forløbet.\\nDet er – bliver jeg nødt til at sige – i ret skarp kontrast til oppositionens ageren, dengang I havde ansvaret. Noget af det første, I gjorde, var at lukke Irakkommissionen, som dengang var i gang med at undersøge grundlaget for Danmarks krigsdeltagelse. Måske fordi det handlede om ens egne partier, satte man en stopper for en uvildig undersøgelse, da man fik magten.\\nAlligevel påstår man, at det er os, der er magtfuldkomne. Det blev sagt første gang, kun en uge efter at regeringen blev dannet tilbage i juni 2019. Siden da er det blevet sagt rigtig mange gange, bl.a. i sidste uge. Så sent som i sidste uge var Venstre med i en bred aftale om psykiatrien og sagde i den sammenhæng, at aftalen, som man selv er en del af, var udtryk for magtfuldkommenhed. Det er alligevel nyt, bliver jeg nødt til sige.\\nSlår man op i ordbogen, defineres magtfuldkommenhed som det at besidde og egenrådigt udøve absolut magt. Absolut magt – det tætteste, Socialdemokratiet nogen sinde har været på absolut magt, er mange år siden. Det var i 1935, da Stauning fik 46,1 pct. af stemmerne. Ikke engang dengang havde vi et flertal selv. Det har vi faktisk aldrig nogen sinde haft og – bliver jeg nødt til at tilføje – slet ikke nu.\\nTværtimod har vi igennem hele vores partis liv efterstræbt og forsøgt samarbejde, folkestyre, og kompromiser og de brede løsninger. Uagtet hvad der måtte blive sagt, er det også det, der har været tilfældet nu igennem mere end 3 år. Hver eneste dag, når en af regeringens ministre står op, er der ikke flertal for regeringens politik. Hver eneste dag skal man ud og finde de 90 mandater, og ganske mange dage er det også lykkedes.\\nHer tog debatten i dag lidt en drejning, og måske skyldes det, at der er en del kvindelige partiledere. Jeg opdagede nemlig tidligere i dag til min store overraskelse, at hr. Alex Vanopslagh ikke alene har mellemnavnet Dominique, men også tidligere har bragt det her perspektiv ind i debatten. I et indlæg i Politiken under overskriften »Kvinder elsker dominerende mænd« skrev hr. Alex Vanopslagh for år tilbage, og jeg citerer: »På kryds og tværs af kulturer observerer vi, at kvinder er mere« – og nu skal I holde fast – »venlige, sympatiske, varme og samarbejdsvillige end mænd.« Så fik vi da lukket den diskussion. Jeg er ikke enig; jeg synes også, at alt det her gælder for mine mandlige kolleger.\\nFakta fortæller altså, at ni ud af ti aftaler i den her valgperiode er indgået hen over den politiske midte. Brede aftaler er ofte bedre aftaler. Kunne vi ikke være stolte af det? Kunne vi ikke være stolte af alt det, vi har præsteret i fællesskab i den måske sværeste tid for vores land i moderne tid? For den stolthed tilhører os alle sammen, og den siger faktisk noget meget, meget fint om os, om partierne, om oppositionen. I har jo ikke sat jer med armene over kors. I var med til at løfte ansvaret, også da det var svært – i øvrigt som Venstre, SF, Konservative og Radikale Venstre gjorde det med det nationale kompromis.\\nKl. 22:11\\nVi var tynget af situationens alvor. Der var i rummet en stærk pligtfølelse og vilje til at tage ansvar, hvor vi fandt hinanden. På bare 5 dage blev Danmarks forsvarspolitik ændret mere skelsættende end på noget andet tidspunkt i løbet af de seneste 30 år. Efterfølgende kvitterede danskerne med et overvældende ja til at afskaffe forsvarsforbeholdet.\\nSamarbejdet omkring det nationale kompromis åbnede nogle nye perspektiver for dansk politik og for mig. Det er derfor, at jeg for 4 måneder siden på grundlovsdag foreslog en bred regering. Jeg ved godt, at hr. Lars Løkke Rasmussen foreslog det allerede i den sidste valgkamp, men en idé er jo ikke nødvendigvis dårlig, fordi andre har fået den før. Jeg er i hvert fald på det personlige plan kun blevet mere og mere overbevist.\\nSiden grundlovsdag er krigen gået ind i en ny og værre fase. Putin eskalerer med ulovlige annekteringer af Ukraine, der er trusler om atomvåben, inflationen går som et spøgelse hen over vores kontinent, og et økonomisk stormvejr rykker tættere og tættere på. Kriserne griber ind i hinanden, og i så usikre tider vil det gavne Danmark og vores land med et mere forpligtende samarbejde på tværs af de politiske blokke: en bred regering, som skal få Danmark igennem kriserne og sammen med vores allierede bistå Ukraine med at vinde krigen, som skal stå fast på udlændingepolitikken og vores danske værdier, hjælpe dem, der er hårdest ramt af krisen, og selvfølgelig løse nogle af de mere langsigtede udfordringer for dansk økonomi og velfærd.\\nDet er derfor, at vi har foreslået en helhedsplan for velfærdssamfundet, som skal række 15 år ud i fremtiden. Jeg håber, at alle partier vil byde sig til, og i dag vil jeg gerne invitere arbejdsmarkedets parter indenfor. Vi har behov for at tænke stort og bredt, og jeg tør næsten ikke sige det: at tænke nyt. Der vil være 125.000 flere ældre over 70 år i 2030. Det er fantastisk, det er jo resultatet af den måde, som vores samfund har udviklet sig på. Men med flere, der går på pension, og færre, der kommer ind på arbejdsmarkedet, går det fremtidige regnestykke ikke op. Det er os, der skal få tallene til at stå rigtigt.\\nDet kræver reformer, og det kræver, at vi tænker uddannelse og andre ting forfra. Det kræver også, at vi taler om løn- og arbejdsvilkår – noget flere af jer har bragt ind i debatten i dag. Inden valgdagen vil vi fra Socialdemokratiets side fremlægge vores bud på en række principper for, hvordan det kan udmøntes i praksis. Og vi er startet – kun startet – på et oprør mod papirarbejde og bureaukrati. Venstre har foreslået en reform af jobcentrene. Det synes vi er klogt, lad os tage det med. Lad os i det hele taget få alle gode idéer på bordet.\\nNår alt kommer til alt, handler det om noget meget konkret, nemlig at det også i fremtiden skal være trygt at blive gammel i Danmark; at det også i fremtiden skal være sådan, at barnet oplever ordentlig kvalitet, når mor og far er på arbejdet; at der også i fremtiden er hjælp at hente – professionelt og med omsorg – hvis man rammes af sygdom. Og det her kommer til at kræve reformer.\\nHr. Søren Pape Poulsen har udtrykt det på den måde, at der er brug for flere indianere. Jeg tror ikke, at han mente det sådan helt konkret. Men nuvel, det er de færreste både offentligt ansatte og indianere, der får gavn af at fjerne topskatten, så lad os få sendt det forslag ud på de evige jagtmarker, begrave stridsøksen og måske ovenikøbet ryge en fredspibe. I den røde stamme skal vi nok lade være med at komme med flere indianerreferencer, og jeg vil gerne her afslutningsvis sige, at vi har haft et fantastisk godt samarbejde. Tak for det.\\nTil fru Pia Olsen Dyhr, fru Mai Villadsen og fru Sofie Carsten Nielsen: Det er jeres og jeres partiers fortjeneste sammen med Alternativet, at Danmark nu har verdens mest ambitiøse klimalov – nok verdens mest ambitiøse klimalov. Jeg er stolt af de resultater, I har presset på for at få, og som vi har opnået sammen. Det er en samtykkelov, som kommer til at ændre vores kultur og den måde, som vi ser på hinanden på; minimumsnormeringer, som er et løfte til vores børn og til de næste generationer; afskaffelse af uddannelsesloftet som et stærkt signal til vores unge.\\nTak til alle Folketingets partier, og selvfølgelig også en tak til de nordatlantiske mandater. Respekt, tillid og ligeværdighed er de tre værdier, som fru Aaja Chemnitz fremhævede i dag, som er fundamentet for et stærkt rigsfællesskab, og jeg er enig. Og vi bliver glade og stolte, når fru Aki-Matilda Høegh-Dam udtaler, at Grønland nu føler sig hørt.\\nJeg er enig i, at vi må forholde os til fortiden for sammen at kunne komme ind i fremtiden. Der er spiralsagen, hvor flere tusinde grønlandske piger og kvinder på den danske stats initiativ fik lagt en spiral op; eksperimentbørnene, hvor grønlandske børn blev fjernet fra deres egne familier og deres rødder og sendt til Danmark. Herhjemme indledte vi valgperioden med endelig at give en officiel undskyldning til godhavnsdrengene. Den er nu også givet til eksperimentbørnene. Både Grønland og Færøerne har i den her valgperiode fået en stærkere stemme, fordi vi nu har et rigtigt samarbejde i Kontaktudvalget.\\nTak til hr. Edmund Joensen for troligt og pligtopfyldende at have repræsenteret Færøerne i Danmark og i Folketinget. Jeg er, som hr. Edmund Joensen også var inde på i sit indlæg tidligere, glad for, at det er lykkedes at aftale, at der nu oprettes et nyt fængsel på Færøerne, og det er ikke mindst takket være både hr. Edmund Joensen og hr. Sjúrður Skaale, at det nu forhåbentlig kommer på plads. Det har været et helt legitimt ønske om bedre vilkår.\\nSå til sidst til hr. Sjúrður Skaale, som jo har en fantastisk evne til at aflevere sine taler med både fynde og humor, men også altid med en mere bagvedliggende alvorlig pointe, vil jeg sige, at det er meget passende at citere fra Rockyfilmen, især når min yndlingsfilm er den første Rambofilm. I et interview – jeg husker ikke hvor – har hr. Sjúrður Skaale fortalt om det at være den sidste på talerstolen, og jeg citerer:\\nFolk er trætte, de er fyldt op, de kan ikke klare mere. Der er en mur af ord, som jeg skal bryde igennem. Det lykkes altid, også i dag.\\nHvis hr. Sjúrður Skaale har ret i, at en valgkamp er en boksekamp, så glæder jeg mig til den ottende runde, og den kan jo så passende starte nu. Tak for ordet.\\n'"
      ]
     },
     "execution_count": 25,
     "metadata": {},
     "output_type": "execute_result"
    }
   ],
   "source": [
    "get_text(url)"
   ]
  }
 ],
 "metadata": {
  "kernelspec": {
   "display_name": "eda",
   "language": "python",
   "name": "eda"
  },
  "language_info": {
   "codemirror_mode": {
    "name": "ipython",
    "version": 3
   },
   "file_extension": ".py",
   "mimetype": "text/x-python",
   "name": "python",
   "nbconvert_exporter": "python",
   "pygments_lexer": "ipython3",
   "version": "3.10.6"
  }
 },
 "nbformat": 4,
 "nbformat_minor": 5
}

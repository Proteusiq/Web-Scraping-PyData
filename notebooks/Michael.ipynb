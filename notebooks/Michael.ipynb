{
 "cells": [
  {
   "cell_type": "code",
   "execution_count": 1,
   "metadata": {},
   "outputs": [],
   "source": [
    "import numpy as np\n",
    "import pandas as pd\n",
    "from requests import Session"
   ]
  },
  {
   "cell_type": "code",
   "execution_count": 2,
   "metadata": {},
   "outputs": [],
   "source": [
    "headers = {'User-Agent': 'Mozilla/5.0 (X11; Linux x86_64) '\\\n",
    "                         'AppleWebKit/537.36 (KHTML, like Gecko) '\\\n",
    "                         'Chrome/75.0.3770.80 Safari/537.36',\n",
    "          'Content-Type': 'application/json;charset=UTF-8'}\n",
    "\n",
    "# Add headers\n",
    "httpx = Session()\n",
    "httpx.headers.update(headers)"
   ]
  },
  {
   "cell_type": "code",
   "execution_count": 3,
   "metadata": {},
   "outputs": [],
   "source": [
    "URL = 'https://home.dk/umbraco/backoffice/home-api/Search'\n",
    "params = dict(CurrentPageNumber=0, \n",
    "              SearchResultsPerPage=200)"
   ]
  },
  {
   "cell_type": "code",
   "execution_count": 4,
   "metadata": {},
   "outputs": [],
   "source": [
    "r = httpx.get(URL, params=params)"
   ]
  },
  {
   "cell_type": "code",
   "execution_count": 5,
   "metadata": {},
   "outputs": [],
   "source": [
    "data = r.json()"
   ]
  },
  {
   "cell_type": "code",
   "execution_count": 6,
   "metadata": {},
   "outputs": [
    {
     "data": {
      "text/plain": [
       "(200, 52338)"
      ]
     },
     "execution_count": 6,
     "metadata": {},
     "output_type": "execute_result"
    }
   ],
   "source": [
    "df = pd.DataFrame(data['searchResults'])\n",
    "data['searchResultsPerPage'], data['totalSearchResults']"
   ]
  },
  {
   "cell_type": "code",
   "execution_count": 7,
   "metadata": {},
   "outputs": [
    {
     "data": {
      "text/plain": [
       "(261.69, 262)"
      ]
     },
     "execution_count": 7,
     "metadata": {},
     "output_type": "execute_result"
    }
   ],
   "source": [
    "loops = data['totalSearchResults']/data['searchResultsPerPage']\n",
    "loops, np.ceil(loops).astype(int)"
   ]
  },
  {
   "cell_type": "code",
   "execution_count": 8,
   "metadata": {},
   "outputs": [
    {
     "data": {
      "text/html": [
       "<div>\n",
       "<style scoped>\n",
       "    .dataframe tbody tr th:only-of-type {\n",
       "        vertical-align: middle;\n",
       "    }\n",
       "\n",
       "    .dataframe tbody tr th {\n",
       "        vertical-align: top;\n",
       "    }\n",
       "\n",
       "    .dataframe thead th {\n",
       "        text-align: right;\n",
       "    }\n",
       "</style>\n",
       "<table border=\"1\" class=\"dataframe\">\n",
       "  <thead>\n",
       "    <tr style=\"text-align: right;\">\n",
       "      <th></th>\n",
       "      <th>aabenthusNicename</th>\n",
       "      <th>aabenthusShowRegistration</th>\n",
       "      <th>adresse</th>\n",
       "      <th>andenmaegler</th>\n",
       "      <th>billedeUrl</th>\n",
       "      <th>boligKanLejes</th>\n",
       "      <th>boligOrGrundAreal</th>\n",
       "      <th>boligurl</th>\n",
       "      <th>city</th>\n",
       "      <th>ejendomstypePrimaerNicename</th>\n",
       "      <th>...</th>\n",
       "      <th>lng</th>\n",
       "      <th>openHouseEndDate</th>\n",
       "      <th>openHouseStartDate</th>\n",
       "      <th>overskrift2</th>\n",
       "      <th>pictures</th>\n",
       "      <th>postal</th>\n",
       "      <th>price</th>\n",
       "      <th>sagsnummer</th>\n",
       "      <th>showNewPrice</th>\n",
       "      <th>solgtBolig</th>\n",
       "    </tr>\n",
       "  </thead>\n",
       "  <tbody>\n",
       "    <tr>\n",
       "      <th>0</th>\n",
       "      <td></td>\n",
       "      <td>False</td>\n",
       "      <td>Sæbyvej 30</td>\n",
       "      <td>False</td>\n",
       "      <td>https://home.mindworking.eu/resources/shops/82...</td>\n",
       "      <td>0</td>\n",
       "      <td>148.0</td>\n",
       "      <td>https://home.dk/boligkatalog/broenderslev/9340...</td>\n",
       "      <td>Asaa</td>\n",
       "      <td>Villa</td>\n",
       "      <td>...</td>\n",
       "      <td>10.409491</td>\n",
       "      <td></td>\n",
       "      <td></td>\n",
       "      <td>Meget pæn tilstandsrapport!</td>\n",
       "      <td>[{'PicId': 3357022, 'CaseId': 10535472, 'CaseN...</td>\n",
       "      <td>9340</td>\n",
       "      <td>648.000</td>\n",
       "      <td>8240000127</td>\n",
       "      <td>False</td>\n",
       "      <td>False</td>\n",
       "    </tr>\n",
       "    <tr>\n",
       "      <th>1</th>\n",
       "      <td></td>\n",
       "      <td>False</td>\n",
       "      <td>Blåbærvej 8</td>\n",
       "      <td>False</td>\n",
       "      <td>https://home.mindworking.eu/resources/shops/62...</td>\n",
       "      <td>0</td>\n",
       "      <td>97.0</td>\n",
       "      <td>https://home.dk/boligkatalog/vejen/6600/huse-v...</td>\n",
       "      <td>Vejen</td>\n",
       "      <td>Villa</td>\n",
       "      <td>...</td>\n",
       "      <td>9.149376</td>\n",
       "      <td></td>\n",
       "      <td></td>\n",
       "      <td>Dejlig sydvendt have med hyggelig terrasse med...</td>\n",
       "      <td>[{'PicId': 3025962, 'CaseId': 10402314, 'CaseN...</td>\n",
       "      <td>6600</td>\n",
       "      <td>845.000</td>\n",
       "      <td>6220000154</td>\n",
       "      <td>False</td>\n",
       "      <td>False</td>\n",
       "    </tr>\n",
       "    <tr>\n",
       "      <th>2</th>\n",
       "      <td></td>\n",
       "      <td>False</td>\n",
       "      <td>Kirstensvej 14, Lyngså</td>\n",
       "      <td>False</td>\n",
       "      <td>https://home.mindworking.eu/resources/shops/81...</td>\n",
       "      <td>0</td>\n",
       "      <td>75.0</td>\n",
       "      <td>https://home.dk/boligkatalog/frederikshavn/930...</td>\n",
       "      <td>Sæby</td>\n",
       "      <td>Fritidshus</td>\n",
       "      <td>...</td>\n",
       "      <td>10.539909</td>\n",
       "      <td></td>\n",
       "      <td></td>\n",
       "      <td>Sdr. Klit - Lyngså</td>\n",
       "      <td>[{'PicId': 3348839, 'CaseId': 10536965, 'CaseN...</td>\n",
       "      <td>9300</td>\n",
       "      <td>845.000</td>\n",
       "      <td>8100000262</td>\n",
       "      <td>False</td>\n",
       "      <td>False</td>\n",
       "    </tr>\n",
       "    <tr>\n",
       "      <th>3</th>\n",
       "      <td></td>\n",
       "      <td>False</td>\n",
       "      <td>Rørvigvej 115</td>\n",
       "      <td>False</td>\n",
       "      <td>https://home.mindworking.eu/resources/shops/21...</td>\n",
       "      <td>0</td>\n",
       "      <td>91.0</td>\n",
       "      <td>https://home.dk/boligkatalog/odsherred/4500/hu...</td>\n",
       "      <td>Nykøbing Sj</td>\n",
       "      <td>Villa</td>\n",
       "      <td>...</td>\n",
       "      <td>11.676701</td>\n",
       "      <td></td>\n",
       "      <td></td>\n",
       "      <td>Hyggeligt og velbygget hus på stor grund</td>\n",
       "      <td>[{'PicId': 1788919, 'CaseId': 10003326, 'CaseN...</td>\n",
       "      <td>4500</td>\n",
       "      <td>995.000</td>\n",
       "      <td>219V00482</td>\n",
       "      <td>False</td>\n",
       "      <td>False</td>\n",
       "    </tr>\n",
       "    <tr>\n",
       "      <th>4</th>\n",
       "      <td></td>\n",
       "      <td>False</td>\n",
       "      <td>Enighedsvej 1, 2.</td>\n",
       "      <td>False</td>\n",
       "      <td>https://home.mindworking.eu/resources/shops/13...</td>\n",
       "      <td>0</td>\n",
       "      <td>70.0</td>\n",
       "      <td>https://home.dk/boligkatalog/helsingoer/3000/e...</td>\n",
       "      <td>Helsingør</td>\n",
       "      <td>Lejlighed</td>\n",
       "      <td>...</td>\n",
       "      <td>12.601889</td>\n",
       "      <td></td>\n",
       "      <td></td>\n",
       "      <td>Skøn villalejlighed kun få minutter fra Helsin...</td>\n",
       "      <td>[{'PicId': 3350182, 'CaseId': 10535792, 'CaseN...</td>\n",
       "      <td>3000</td>\n",
       "      <td>1.350.000</td>\n",
       "      <td>1380000352</td>\n",
       "      <td>False</td>\n",
       "      <td>False</td>\n",
       "    </tr>\n",
       "  </tbody>\n",
       "</table>\n",
       "<p>5 rows × 28 columns</p>\n",
       "</div>"
      ],
      "text/plain": [
       "  aabenthusNicename  aabenthusShowRegistration                 adresse  \\\n",
       "0                                        False              Sæbyvej 30   \n",
       "1                                        False             Blåbærvej 8   \n",
       "2                                        False  Kirstensvej 14, Lyngså   \n",
       "3                                        False           Rørvigvej 115   \n",
       "4                                        False       Enighedsvej 1, 2.   \n",
       "\n",
       "   andenmaegler                                         billedeUrl  \\\n",
       "0         False  https://home.mindworking.eu/resources/shops/82...   \n",
       "1         False  https://home.mindworking.eu/resources/shops/62...   \n",
       "2         False  https://home.mindworking.eu/resources/shops/81...   \n",
       "3         False  https://home.mindworking.eu/resources/shops/21...   \n",
       "4         False  https://home.mindworking.eu/resources/shops/13...   \n",
       "\n",
       "   boligKanLejes  boligOrGrundAreal  \\\n",
       "0              0              148.0   \n",
       "1              0               97.0   \n",
       "2              0               75.0   \n",
       "3              0               91.0   \n",
       "4              0               70.0   \n",
       "\n",
       "                                            boligurl         city  \\\n",
       "0  https://home.dk/boligkatalog/broenderslev/9340...         Asaa   \n",
       "1  https://home.dk/boligkatalog/vejen/6600/huse-v...        Vejen   \n",
       "2  https://home.dk/boligkatalog/frederikshavn/930...         Sæby   \n",
       "3  https://home.dk/boligkatalog/odsherred/4500/hu...  Nykøbing Sj   \n",
       "4  https://home.dk/boligkatalog/helsingoer/3000/e...    Helsingør   \n",
       "\n",
       "  ejendomstypePrimaerNicename    ...            lng openHouseEndDate  \\\n",
       "0                       Villa    ...      10.409491                    \n",
       "1                       Villa    ...       9.149376                    \n",
       "2                  Fritidshus    ...      10.539909                    \n",
       "3                       Villa    ...      11.676701                    \n",
       "4                   Lejlighed    ...      12.601889                    \n",
       "\n",
       "   openHouseStartDate                                        overskrift2  \\\n",
       "0                                            Meget pæn tilstandsrapport!   \n",
       "1                      Dejlig sydvendt have med hyggelig terrasse med...   \n",
       "2                                                     Sdr. Klit - Lyngså   \n",
       "3                               Hyggeligt og velbygget hus på stor grund   \n",
       "4                      Skøn villalejlighed kun få minutter fra Helsin...   \n",
       "\n",
       "                                            pictures  postal       price  \\\n",
       "0  [{'PicId': 3357022, 'CaseId': 10535472, 'CaseN...    9340    648.000    \n",
       "1  [{'PicId': 3025962, 'CaseId': 10402314, 'CaseN...    6600    845.000    \n",
       "2  [{'PicId': 3348839, 'CaseId': 10536965, 'CaseN...    9300    845.000    \n",
       "3  [{'PicId': 1788919, 'CaseId': 10003326, 'CaseN...    4500    995.000    \n",
       "4  [{'PicId': 3350182, 'CaseId': 10535792, 'CaseN...    3000  1.350.000    \n",
       "\n",
       "   sagsnummer  showNewPrice solgtBolig  \n",
       "0  8240000127         False      False  \n",
       "1  6220000154         False      False  \n",
       "2  8100000262         False      False  \n",
       "3   219V00482         False      False  \n",
       "4  1380000352         False      False  \n",
       "\n",
       "[5 rows x 28 columns]"
      ]
     },
     "execution_count": 8,
     "metadata": {},
     "output_type": "execute_result"
    }
   ],
   "source": [
    "df.head()"
   ]
  },
  {
   "cell_type": "code",
   "execution_count": 9,
   "metadata": {},
   "outputs": [],
   "source": [
    "# Gearing up"
   ]
  },
  {
   "cell_type": "code",
   "execution_count": 10,
   "metadata": {},
   "outputs": [],
   "source": [
    "from abc import ABC, abstractmethod\n",
    "from concurrent.futures import ThreadPoolExecutor\n",
    "from datetime import datetime"
   ]
  },
  {
   "cell_type": "code",
   "execution_count": 11,
   "metadata": {},
   "outputs": [],
   "source": [
    "class Home(ABC):\n",
    "\n",
    "    def __init__(self, url, headers=None):\n",
    "        \n",
    "        session = Session()\n",
    "\n",
    "        self.BASE_URL = url\n",
    "        \n",
    "\n",
    "        if headers is None:\n",
    "            headers = {'User-Agent': ('Mozilla/5.0 (Macintosh; Intel Mac OS X 10_10_1) '\n",
    "                          'AppleWebKit/537.36 (KHTML, like Gecko) '\n",
    "                          'Chrome/39.0.2171.95 Safari/537.36'),\n",
    "                    'Content-Type': 'application/json'}\n",
    "\n",
    "        session.headers.update(headers)\n",
    "\n",
    "        self.session = session\n",
    "        self.meta_data = None\n",
    "        self.store =  pd.DataFrame()\n",
    "\n",
    "    \n",
    "    def __repr__(self):\n",
    "        return f'{self.__class__.__name__}(API={repr(self.BASE_URL)})'\n",
    "\n",
    "    \n",
    "    @abstractmethod\n",
    "    def get_page(self, *args, **kwargs):\n",
    "        pass\n",
    "    \n",
    "    \n",
    "    def get_pages(self, *args, **kwargs):\n",
    "        pass"
   ]
  },
  {
   "cell_type": "code",
   "execution_count": 12,
   "metadata": {},
   "outputs": [],
   "source": [
    "class HomeRecent(Home):\n",
    "    \n",
    "    '''\n",
    "    expects Base URL\n",
    "    e.g. \n",
    "        url = 'https://home.dk/umbraco/backoffice/home-api/Search'      \n",
    "    '''\n",
    "\n",
    "    def get_page(self, page=0, pagesize=100 ,verbose=False):\n",
    "        '''Gather Data From Home API\n",
    "            page:int page number. default value 0\n",
    "            pagesize:int number of boligs in a page. default value 100\n",
    "            verbose:bool print mining progress. default value False\n",
    "        '''\n",
    "        \n",
    "        params = {'CurrentPageNumber':page,\n",
    "                 'SearchResultsPerPage':pagesize,\n",
    "                 }\n",
    "        \n",
    "\n",
    "        r = self.session.get(self.BASE_URL, params=params)\n",
    "\n",
    "        if r.ok:\n",
    "            data = r.json()\n",
    "            \n",
    "            self.store = self.store.append(\n",
    "                    pd.DataFrame(data.get('searchResults')), ignore_index=True)\n",
    "            self.max_pages = loops = np.ceil(\n",
    "                                data['totalSearchResults']/data['searchResultsPerPage']\n",
    "                            ).astype(int)\n",
    "\n",
    "        else:\n",
    "            self.store\n",
    "            \n",
    "        if verbose:\n",
    "            print(f'[+] Gathering data from page {page:}.{\" \":>5}Found {len(self.store):>5} estates'\n",
    "                 f'{\" \":>3}Time {datetime.now().strftime(\"%d-%m-%Y %H:%M:%S\")}')\n",
    "\n",
    "        return self\n",
    "\n",
    "    \n",
    "    def get_pages(self, start_page=0, end_page=None, pagesize=100, workers=4, verbose=False):\n",
    "        '''\n",
    "         Parallel Gathering Data From Home\n",
    "            start_page:int page number to start. default value 0\n",
    "            end_page:int page number to stop. default value None\n",
    "            pagesize:int number of boligs per page. default valeu 100\n",
    "            verbose:bool print mining progress. default value False\n",
    "        '''\n",
    "        \n",
    "        # Make the first call to get total number of pages for split call pagesize split\n",
    "        \n",
    "        self.get_page(page=start_page, pagesize=pagesize, verbose=verbose)\n",
    "        \n",
    "        if end_page is None:\n",
    "            total_pages = self.max_pages\n",
    "        else:\n",
    "            total_pages = start_page + end_page + 1\n",
    "        \n",
    "        # since we got the first page, we can get the rest\n",
    "        \n",
    "        if start_page <= total_pages:\n",
    "            start_page += 1\n",
    "\n",
    "            func = lambda pages: [self.get_page(page, pagesize, verbose=verbose) for page in pages]\n",
    "            pages_split = np.array_split(np.arange(start_page,total_pages+1), workers)\n",
    "        \n",
    "            with ThreadPoolExecutor(max_workers=workers) as executor:\n",
    "                _ = [executor.submit(func,split) for split in pages_split]\n",
    "        \n",
    "        return self"
   ]
  },
  {
   "cell_type": "code",
   "execution_count": 13,
   "metadata": {},
   "outputs": [],
   "source": [
    "# Play time"
   ]
  },
  {
   "cell_type": "code",
   "execution_count": 14,
   "metadata": {},
   "outputs": [
    {
     "data": {
      "text/plain": [
       "HomeRecent(API='https://home.dk/umbraco/backoffice/home-api/Search')"
      ]
     },
     "execution_count": 14,
     "metadata": {},
     "output_type": "execute_result"
    }
   ],
   "source": [
    "homes = HomeRecent(url='https://home.dk/umbraco/backoffice/home-api/Search')\n",
    "homes"
   ]
  },
  {
   "cell_type": "code",
   "execution_count": 15,
   "metadata": {},
   "outputs": [
    {
     "name": "stdout",
     "output_type": "stream",
     "text": [
      "[+] Start single thread calls\n",
      "\n",
      "[+] Gathering data from page 0.     Found    99 estates   Time 11-05-2020 15:25:01\n",
      "[+] Gathering data from page 1.     Found   198 estates   Time 11-05-2020 15:25:01\n",
      "[+] Gathering data from page 2.     Found   294 estates   Time 11-05-2020 15:25:02\n",
      "[+] Gathering data from page 3.     Found   392 estates   Time 11-05-2020 15:25:02\n",
      "[+] Gathering data from page 4.     Found   486 estates   Time 11-05-2020 15:25:03\n",
      "[+] Gathering data from page 5.     Found   585 estates   Time 11-05-2020 15:25:03\n",
      "[+] Gathering data from page 6.     Found   681 estates   Time 11-05-2020 15:25:04\n",
      "[+] Gathering data from page 7.     Found   777 estates   Time 11-05-2020 15:25:04\n",
      "[+] Gathering data from page 8.     Found   875 estates   Time 11-05-2020 15:25:05\n",
      "[+] Gathering data from page 9.     Found   970 estates   Time 11-05-2020 15:25:05\n"
     ]
    }
   ],
   "source": [
    " # one call at a time\n",
    "print('[+] Start single thread calls\\n')\n",
    "_ = [homes.get_page(page=page, pagesize=100, verbose=True) for page in range(0,10)]"
   ]
  },
  {
   "cell_type": "code",
   "execution_count": 16,
   "metadata": {},
   "outputs": [
    {
     "name": "stdout",
     "output_type": "stream",
     "text": [
      "Data Stored 970 rows\n",
      "\n"
     ]
    }
   ],
   "source": [
    "df = homes.store\n",
    "print(f'Data Stored {df.shape[0]} rows\\n')"
   ]
  },
  {
   "cell_type": "code",
   "execution_count": 17,
   "metadata": {},
   "outputs": [
    {
     "data": {
      "text/html": [
       "<div>\n",
       "<style scoped>\n",
       "    .dataframe tbody tr th:only-of-type {\n",
       "        vertical-align: middle;\n",
       "    }\n",
       "\n",
       "    .dataframe tbody tr th {\n",
       "        vertical-align: top;\n",
       "    }\n",
       "\n",
       "    .dataframe thead th {\n",
       "        text-align: right;\n",
       "    }\n",
       "</style>\n",
       "<table border=\"1\" class=\"dataframe\">\n",
       "  <thead>\n",
       "    <tr style=\"text-align: right;\">\n",
       "      <th></th>\n",
       "      <th>aabenthusNicename</th>\n",
       "      <th>aabenthusShowRegistration</th>\n",
       "      <th>adresse</th>\n",
       "      <th>andenmaegler</th>\n",
       "      <th>billedeUrl</th>\n",
       "      <th>boligKanLejes</th>\n",
       "      <th>boligOrGrundAreal</th>\n",
       "      <th>boligurl</th>\n",
       "      <th>city</th>\n",
       "      <th>ejendomstypePrimaerNicename</th>\n",
       "      <th>...</th>\n",
       "      <th>lng</th>\n",
       "      <th>openHouseEndDate</th>\n",
       "      <th>openHouseStartDate</th>\n",
       "      <th>overskrift2</th>\n",
       "      <th>pictures</th>\n",
       "      <th>postal</th>\n",
       "      <th>price</th>\n",
       "      <th>sagsnummer</th>\n",
       "      <th>showNewPrice</th>\n",
       "      <th>solgtBolig</th>\n",
       "    </tr>\n",
       "  </thead>\n",
       "  <tbody>\n",
       "    <tr>\n",
       "      <th>0</th>\n",
       "      <td></td>\n",
       "      <td>False</td>\n",
       "      <td>Sæbyvej 30</td>\n",
       "      <td>False</td>\n",
       "      <td>https://home.mindworking.eu/resources/shops/82...</td>\n",
       "      <td>0</td>\n",
       "      <td>148.0</td>\n",
       "      <td>https://home.dk/boligkatalog/broenderslev/9340...</td>\n",
       "      <td>Asaa</td>\n",
       "      <td>Villa</td>\n",
       "      <td>...</td>\n",
       "      <td>10.409491</td>\n",
       "      <td></td>\n",
       "      <td></td>\n",
       "      <td>Meget pæn tilstandsrapport!</td>\n",
       "      <td>[{'PicId': 3357022, 'CaseId': 10535472, 'CaseN...</td>\n",
       "      <td>9340</td>\n",
       "      <td>648.000</td>\n",
       "      <td>8240000127</td>\n",
       "      <td>False</td>\n",
       "      <td>False</td>\n",
       "    </tr>\n",
       "    <tr>\n",
       "      <th>1</th>\n",
       "      <td></td>\n",
       "      <td>False</td>\n",
       "      <td>Blåbærvej 8</td>\n",
       "      <td>False</td>\n",
       "      <td>https://home.mindworking.eu/resources/shops/62...</td>\n",
       "      <td>0</td>\n",
       "      <td>97.0</td>\n",
       "      <td>https://home.dk/boligkatalog/vejen/6600/huse-v...</td>\n",
       "      <td>Vejen</td>\n",
       "      <td>Villa</td>\n",
       "      <td>...</td>\n",
       "      <td>9.149376</td>\n",
       "      <td></td>\n",
       "      <td></td>\n",
       "      <td>Dejlig sydvendt have med hyggelig terrasse med...</td>\n",
       "      <td>[{'PicId': 3025962, 'CaseId': 10402314, 'CaseN...</td>\n",
       "      <td>6600</td>\n",
       "      <td>845.000</td>\n",
       "      <td>6220000154</td>\n",
       "      <td>False</td>\n",
       "      <td>False</td>\n",
       "    </tr>\n",
       "  </tbody>\n",
       "</table>\n",
       "<p>2 rows × 28 columns</p>\n",
       "</div>"
      ],
      "text/plain": [
       "  aabenthusNicename  aabenthusShowRegistration      adresse  andenmaegler  \\\n",
       "0                                        False   Sæbyvej 30         False   \n",
       "1                                        False  Blåbærvej 8         False   \n",
       "\n",
       "                                          billedeUrl  boligKanLejes  \\\n",
       "0  https://home.mindworking.eu/resources/shops/82...              0   \n",
       "1  https://home.mindworking.eu/resources/shops/62...              0   \n",
       "\n",
       "   boligOrGrundAreal                                           boligurl  \\\n",
       "0              148.0  https://home.dk/boligkatalog/broenderslev/9340...   \n",
       "1               97.0  https://home.dk/boligkatalog/vejen/6600/huse-v...   \n",
       "\n",
       "    city ejendomstypePrimaerNicename    ...            lng openHouseEndDate  \\\n",
       "0   Asaa                       Villa    ...      10.409491                    \n",
       "1  Vejen                       Villa    ...       9.149376                    \n",
       "\n",
       "   openHouseStartDate                                        overskrift2  \\\n",
       "0                                            Meget pæn tilstandsrapport!   \n",
       "1                      Dejlig sydvendt have med hyggelig terrasse med...   \n",
       "\n",
       "                                            pictures  postal     price  \\\n",
       "0  [{'PicId': 3357022, 'CaseId': 10535472, 'CaseN...    9340  648.000    \n",
       "1  [{'PicId': 3025962, 'CaseId': 10402314, 'CaseN...    6600  845.000    \n",
       "\n",
       "   sagsnummer  showNewPrice solgtBolig  \n",
       "0  8240000127         False      False  \n",
       "1  6220000154         False      False  \n",
       "\n",
       "[2 rows x 28 columns]"
      ]
     },
     "execution_count": 17,
     "metadata": {},
     "output_type": "execute_result"
    }
   ],
   "source": [
    "df.head(2)"
   ]
  },
  {
   "cell_type": "code",
   "execution_count": 18,
   "metadata": {},
   "outputs": [
    {
     "data": {
      "text/plain": [
       "0"
      ]
     },
     "execution_count": 18,
     "metadata": {},
     "output_type": "execute_result"
    }
   ],
   "source": [
    "df.duplicated(['boligurl']).sum()"
   ]
  },
  {
   "cell_type": "code",
   "execution_count": 19,
   "metadata": {},
   "outputs": [
    {
     "data": {
      "text/plain": [
       "524"
      ]
     },
     "execution_count": 19,
     "metadata": {},
     "output_type": "execute_result"
    }
   ],
   "source": [
    "homes.max_pages"
   ]
  },
  {
   "cell_type": "code",
   "execution_count": 20,
   "metadata": {},
   "outputs": [
    {
     "name": "stdout",
     "output_type": "stream",
     "text": [
      "[+] Start 5 threads calls\n",
      "\n",
      "[+] Gathering data from page 10.     Found  1070 estates   Time 11-05-2020 15:25:06\n",
      "[+] Gathering data from page 11.     Found  1168 estates   Time 11-05-2020 15:25:06\n",
      "[+] Gathering data from page 12.     Found  1268 estates   Time 11-05-2020 15:25:07\n",
      "[+] Gathering data from page 13.     Found  1367 estates   Time 11-05-2020 15:25:07\n",
      "[+] Gathering data from page 14.     Found  1466 estates   Time 11-05-2020 15:25:08\n",
      "[+] Gathering data from page 17.     Found  1563 estates   Time 11-05-2020 15:25:08\n",
      "[+] Gathering data from page 18.     Found  1662 estates   Time 11-05-2020 15:25:09\n",
      "[+] Gathering data from page 19.     Found  1761 estates   Time 11-05-2020 15:25:09\n",
      "[+] Gathering data from page 20.     Found  1860 estates   Time 11-05-2020 15:25:10\n",
      "[+] Gathering data from page 21.     Found  1959 estates   Time 11-05-2020 15:25:10\n",
      "[+] Gathering data from page 15.     Found  2058 estates   Time 11-05-2020 15:25:10\n",
      "[+] Gathering data from page 27.     Found  2158 estates   Time 11-05-2020 15:25:11\n",
      "[+] Gathering data from page 28.     Found  2256 estates   Time 11-05-2020 15:25:11\n",
      "[+] Gathering data from page 29.     Found  2355 estates   Time 11-05-2020 15:25:12\n",
      "[+] Gathering data from page 30.     Found  2451 estates   Time 11-05-2020 15:25:12\n",
      "[+] Gathering data from page 31.     Found  2551 estates   Time 11-05-2020 15:25:12\n",
      "[+] Gathering data from page 32.     Found  2651 estates   Time 11-05-2020 15:25:13\n",
      "[+] Gathering data from page 33.     Found  2750 estates   Time 11-05-2020 15:25:14\n",
      "[+] Gathering data from page 34.     Found  2848 estates   Time 11-05-2020 15:25:15\n",
      "[+] Gathering data from page 35.     Found  2948 estates   Time 11-05-2020 15:25:16\n",
      "[+] Gathering data from page 36.     Found  3048 estates   Time 11-05-2020 15:25:16\n",
      "[+] Gathering data from page 16.     Found  3146 estates   Time 11-05-2020 15:25:17\n",
      "[+] Gathering data from page 22.     Found  3245 estates   Time 11-05-2020 15:25:17\n",
      "[+] Gathering data from page 23.     Found  3344 estates   Time 11-05-2020 15:25:18\n",
      "[+] Gathering data from page 24.     Found  3444 estates   Time 11-05-2020 15:25:19\n",
      "[+] Gathering data from page 25.     Found  3544 estates   Time 11-05-2020 15:25:19\n",
      "[+] Gathering data from page 26.     Found  3642 estates   Time 11-05-2020 15:25:19\n"
     ]
    },
    {
     "data": {
      "text/plain": [
       "HomeRecent(API='https://home.dk/umbraco/backoffice/home-api/Search')"
      ]
     },
     "execution_count": 20,
     "metadata": {},
     "output_type": "execute_result"
    }
   ],
   "source": [
    "# multipe calls at once\n",
    "workers = 5\n",
    "print(f'[+] Start {workers} threads calls\\n')\n",
    "homes.get_pages(start_page=10, end_page=25, pagesize=100, workers=workers, verbose=True)"
   ]
  },
  {
   "cell_type": "code",
   "execution_count": 21,
   "metadata": {},
   "outputs": [
    {
     "name": "stdout",
     "output_type": "stream",
     "text": [
      "Data Stored 3642 rows\n",
      "\n"
     ]
    }
   ],
   "source": [
    "print(f'Data Stored {homes.store.shape[0]} rows\\n')"
   ]
  }
 ],
 "metadata": {
  "kernelspec": {
   "display_name": "Adhoc",
   "language": "python",
   "name": "adhoc"
  },
  "language_info": {
   "codemirror_mode": {
    "name": "ipython",
    "version": 3
   },
   "file_extension": ".py",
   "mimetype": "text/x-python",
   "name": "python",
   "nbconvert_exporter": "python",
   "pygments_lexer": "ipython3",
   "version": "3.7.4"
  }
 },
 "nbformat": 4,
 "nbformat_minor": 4
}
